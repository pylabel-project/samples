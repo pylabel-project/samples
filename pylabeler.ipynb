{
  "cells": [
    {
      "cell_type": "markdown",
      "metadata": {
        "id": "5UDUKQvj-I_j"
      },
      "source": [
        "<a href=\"https://colab.research.google.com/github//pylabel-project/samples/blob/main/pylabeler.ipynb\" target=\"_blank\"><img src=\"https://colab.research.google.com/assets/colab-badge.svg\" alt=\"Open In Colab\"/></a> "
      ]
    },
    {
      "cell_type": "markdown",
      "metadata": {
        "id": "Cxi8K9mXwl5t"
      },
      "source": [
        "## PyLabeler: Label images with PyLabel, YOLOv5, and jupyter-bbox-widget. \n",
        "\n",
        "This notebook is a labeling tool you can use to \n",
        "annotate image datasets with bounding boxes, build an object detection model to automatically suggest bounding boxes, and save the annotations in YOCO, COCO, or VOC format. The annotation interface uses the [jupyter-bbox-widget](https://github.com/gereleth/jupyter-bbox-widget). The bounding box detection uses PyTorch and a [VOLOv5](https://github.com/ultralytics/yolov5) model.\n",
        "\n",
        "Sample iterative labeling workflow:\n",
        "\n",
        "1. Manually label several images and save the annotations. \n",
        "2. Train an object detection model using the annotations. \n",
        "3. Use the newly trained model to automatically suggest labels for additional images. Adjust labels as needed. \n",
        "Repeat steps 2 and 3 until model the model-predicted values achieve the desired level of accuracy. "
      ]
    },
    {
      "cell_type": "code",
      "execution_count": 12,
      "metadata": {
        "id": "_NcGRjmC-I_m"
      },
      "outputs": [],
      "source": [
        "import logging\n",
        "logging.getLogger().setLevel(logging.CRITICAL)\n",
        "!pip install pylabel > /dev/null. \n",
        "from pylabel import importer\n",
        "import os \n",
        "import zipfile\n",
        "\n",
        "from pylabel import importer"
      ]
    },
    {
      "cell_type": "markdown",
      "metadata": {
        "id": "dkFFxJFn-I_m"
      },
      "source": [
        "## Import Images to be Labeled \n",
        "For this demonstration we will download 100 images from the <a href=\"https://github.com/pylabel-project/datasets_models#squirrels-and-nuts\">squirrels and nuts dataset.</a>\n"
      ]
    },
    {
      "cell_type": "code",
      "execution_count": 13,
      "metadata": {
        "colab": {
          "base_uri": "https://localhost:8080/"
        },
        "id": "dvT4Ykxb-I_n",
        "outputId": "07eda3e7-d2b6-4bc9-ffa4-c353a814b12d"
      },
      "outputs": [
        {
          "name": "stdout",
          "output_type": "stream",
          "text": [
            "--2021-11-28 06:25:11--  https://github.com/pylabel-project/datasets_models/blob/main/squirrelsandnuts/squirrelsandnuts_train.zip?raw=true\n",
            "Resolving github.com (github.com)... 52.69.186.44\n",
            "Connecting to github.com (github.com)|52.69.186.44|:443... connected.\n",
            "HTTP request sent, awaiting response... 302 Found\n",
            "Location: https://github.com/pylabel-project/datasets_models/raw/main/squirrelsandnuts/squirrelsandnuts_train.zip [following]\n",
            "--2021-11-28 06:25:12--  https://github.com/pylabel-project/datasets_models/raw/main/squirrelsandnuts/squirrelsandnuts_train.zip\n",
            "Reusing existing connection to github.com:443.\n",
            "HTTP request sent, awaiting response... 302 Found\n",
            "Location: https://raw.githubusercontent.com/pylabel-project/datasets_models/main/squirrelsandnuts/squirrelsandnuts_train.zip [following]\n",
            "--2021-11-28 06:25:12--  https://raw.githubusercontent.com/pylabel-project/datasets_models/main/squirrelsandnuts/squirrelsandnuts_train.zip\n",
            "Resolving raw.githubusercontent.com (raw.githubusercontent.com)... 185.199.108.133, 185.199.109.133, 185.199.110.133, ...\n",
            "Connecting to raw.githubusercontent.com (raw.githubusercontent.com)|185.199.108.133|:443... connected.\n",
            "HTTP request sent, awaiting response... 200 OK\n",
            "Length: 10368708 (9.9M) [application/zip]\n",
            "Saving to: ‘data/squirrelsandnuts_train.zip’\n",
            "\n",
            "data/squirrelsandnu 100%[===================>]   9.89M  --.-KB/s    in 0.1s    \n",
            "\n",
            "2021-11-28 06:25:13 (91.2 MB/s) - ‘data/squirrelsandnuts_train.zip’ saved [10368708/10368708]\n",
            "\n"
          ]
        }
      ],
      "source": [
        "os.makedirs(\"data/\", exist_ok=True)\n",
        "!wget \"https://github.com/pylabel-project/datasets_models/blob/main/squirrelsandnuts/squirrelsandnuts_train.zip?raw=true\" -O data/squirrelsandnuts_train.zip\n",
        "with zipfile.ZipFile(\"data/squirrelsandnuts_train.zip\", 'r') as zip_ref:\n",
        "    zip_ref.extractall(\"data/\")\n",
        "dataset = importer.ImportImagesOnly(\"data/squirrelsandnuts_train/images/train\", ends_with=\".jpeg\")"
      ]
    },
    {
      "cell_type": "markdown",
      "metadata": {
        "id": "rlVIf5qj-I_o"
      },
      "source": [
        "# Load YOLO Model\n",
        "Install the dependencies required by YOLOv5, which in used for bounding box prediction and training new models. "
      ]
    },
    {
      "cell_type": "code",
      "execution_count": 15,
      "metadata": {
        "colab": {
          "base_uri": "https://localhost:8080/"
        },
        "id": "1-EeN4ZX-I_o",
        "outputId": "f76a5e40-213d-496a-f61d-b7f59961e923"
      },
      "outputs": [
        {
          "name": "stdout",
          "output_type": "stream",
          "text": [
            "fatal: destination path 'yolov5' already exists and is not an empty directory.\n",
            "/content/yolov5\n",
            "/content\n"
          ]
        }
      ],
      "source": [
        "!git clone https://github.com/ultralytics/yolov5  # clone\n",
        "%cd yolov5\n",
        "%pip install -qr requirements.txt  # install\n",
        "%cd ../\n",
        "import torch\n",
        "from yolov5 import utils"
      ]
    },
    {
      "cell_type": "markdown",
      "metadata": {
        "id": "4yV6P9jiDJ8I"
      },
      "source": [
        "Load a YOL0v5 object detection model that you can use automatically label images. Use the below widgets to select and configure the models:\n",
        "- **model_path:** \n",
        "  - Select yolov5s to load the default YOLO model trained on the COCO dataset. It is a good general purpose model but it doesn't have classes for squirrels and nuts. Give it a try and see what happens. \n",
        "  - Select *custom.pt* to load the weights from another pre-trained model. In this example you can load a model that was trained on images of squirrels and nuts. \n",
        "  - Select *yolov5/runs/train/exp/weights/best.pt* to load a new model that you have trained (using the steps further below in the notebook). \n",
        "\n",
        "If you load a model that is not many any predictions, try lowering the model_conf value. "
      ]
    },
    {
      "cell_type": "code",
      "execution_count": 16,
      "metadata": {
        "colab": {
          "base_uri": "https://localhost:8080/"
        },
        "id": "RS-PFZnJOfnX",
        "outputId": "607de7ce-0761-47bf-c452-32df2626c6ef"
      },
      "outputs": [
        {
          "name": "stdout",
          "output_type": "stream",
          "text": [
            "--2021-11-28 06:25:55--  https://github.com/pylabel-project/datasets_models/blob/main/squirrelsandnuts/squirrelsandnuts_yolov5.pt?raw=true\n",
            "Resolving github.com (github.com)... 52.69.186.44\n",
            "Connecting to github.com (github.com)|52.69.186.44|:443... connected.\n",
            "HTTP request sent, awaiting response... 302 Found\n",
            "Location: https://github.com/pylabel-project/datasets_models/raw/main/squirrelsandnuts/squirrelsandnuts_yolov5.pt [following]\n",
            "--2021-11-28 06:25:55--  https://github.com/pylabel-project/datasets_models/raw/main/squirrelsandnuts/squirrelsandnuts_yolov5.pt\n",
            "Reusing existing connection to github.com:443.\n",
            "HTTP request sent, awaiting response... 302 Found\n",
            "Location: https://raw.githubusercontent.com/pylabel-project/datasets_models/main/squirrelsandnuts/squirrelsandnuts_yolov5.pt [following]\n",
            "--2021-11-28 06:25:55--  https://raw.githubusercontent.com/pylabel-project/datasets_models/main/squirrelsandnuts/squirrelsandnuts_yolov5.pt\n",
            "Resolving raw.githubusercontent.com (raw.githubusercontent.com)... 185.199.110.133, 185.199.111.133, 185.199.108.133, ...\n",
            "Connecting to raw.githubusercontent.com (raw.githubusercontent.com)|185.199.110.133|:443... connected.\n",
            "HTTP request sent, awaiting response... 200 OK\n",
            "Length: 14519029 (14M) [application/octet-stream]\n",
            "Saving to: ‘custom.pt’\n",
            "\n",
            "custom.pt           100%[===================>]  13.85M  --.-KB/s    in 0.1s    \n",
            "\n",
            "2021-11-28 06:25:56 (103 MB/s) - ‘custom.pt’ saved [14519029/14519029]\n",
            "\n"
          ]
        },
        {
          "name": "stderr",
          "output_type": "stream",
          "text": [
            "Downloading: \"https://github.com/ultralytics/yolov5/archive/master.zip\" to /root/.cache/torch/hub/master.zip\n"
          ]
        },
        {
          "name": "stdout",
          "output_type": "stream",
          "text": [
            "Downloading https://ultralytics.com/assets/Arial.ttf to /root/.config/Ultralytics/Arial.ttf...\n",
            "\u001b[31m\u001b[1mrequirements:\u001b[0m PyYAML>=5.3.1 not found and is required by YOLOv5, attempting auto-update...\n"
          ]
        },
        {
          "name": "stderr",
          "output_type": "stream",
          "text": [
            "YOLOv5 🚀 2021-11-28 torch 1.10.0+cu111 CUDA:0 (Tesla P100-PCIE-16GB, 16281MiB)\n",
            "\n"
          ]
        },
        {
          "name": "stdout",
          "output_type": "stream",
          "text": [
            "Requirement already satisfied: PyYAML>=5.3.1 in /usr/local/lib/python3.7/dist-packages (6.0)\n",
            "\n",
            "\u001b[31m\u001b[1mrequirements:\u001b[0m 1 package updated per /root/.cache/torch/hub/ultralytics_yolov5_master/requirements.txt\n",
            "\u001b[31m\u001b[1mrequirements:\u001b[0m ⚠️ \u001b[1mRestart runtime or rerun command for updates to take effect\u001b[0m\n",
            "\n"
          ]
        },
        {
          "name": "stderr",
          "output_type": "stream",
          "text": [
            "Fusing layers... \n",
            "Model Summary: 213 layers, 7015519 parameters, 0 gradients, 15.8 GFLOPs\n",
            "Adding AutoShape... \n"
          ]
        }
      ],
      "source": [
        "#Download custom weights that were pre-trained for this task\n",
        "!wget https://github.com/pylabel-project/datasets_models/blob/main/squirrelsandnuts/squirrelsandnuts_yolov5.pt?raw=true -O custom.pt\n",
        "\n",
        "model_path = \"custom.pt\" #@param [\"yolov5s\", \"yolov5/runs/train/exp/weights/best.pt\", \"custom.pt\"] {allow-input: true}\n",
        "model_conf = 0.25 #@param {type:\"slider\", min:0, max:1, step:0.01}\n",
        "model_iou = .45 #@param {type:\"slider\", min:0, max:1, step:0.01}\n",
        "\n",
        "model = torch.hub.load('ultralytics/yolov5', 'custom', path=model_path, force_reload=True) \n",
        "\n",
        "model.conf = model_conf\n",
        "model.iou = model_iou"
      ]
    },
    {
      "cell_type": "markdown",
      "metadata": {
        "id": "AwFSnD_a-I_p"
      },
      "source": [
        "## Predict and Edit Annotations\n",
        "Use the jupyter_bbox_widget to inspect, edit, and save annotations without leaving the Jupyter notebook. Press predict to autolabel images using a pretrained model. For instructions and keyboard shortcuts for using this widget see https://github.com/gereleth/jupyter-bbox-widget#Usage."
      ]
    },
    {
      "cell_type": "code",
      "execution_count": 17,
      "metadata": {
        "colab": {
          "base_uri": "https://localhost:8080/",
          "height": 738,
          "referenced_widgets": [
            "730a6eb2b61d4812a724e75b3ad14748",
            "13b19e92d6d64808a2eb388bf05610de",
            "769e1d10411649589484005d57f6d448",
            "2c8f9d5089fa4fc7a99463749cdcfa6e",
            "290f91e1dcb045c88430b22fd8305d72",
            "ec55278604864ce4be8ae94125db8a76",
            "305e72c8a7f148d38b02ae686af1e4c6",
            "f82bb449e91947b4a350f7937451d52a",
            "b83bd1499557466e98c83ac74fbc1f2e",
            "8e2e28f977da46d9ab590f5e6d6f9e55",
            "d24dfb71853242b697b8925b2af849ff",
            "38018ac5d3d94c41b620f135fa163165",
            "3c2f2bc08af4493bb2bbdaaf0b4bf1cf",
            "ee04b0f850614f848b393c61cbf4766d",
            "9498c434567d4e47ace7e8523898c37b",
            "dd060bbf9fac4586a727300908027b68",
            "2e35f5cf57bd47dabf80612e9711a39c",
            "eeb765ee43a042f093a9a5e5a138716d",
            "c98acbbec9c543328b203163fd42e2a6",
            "aea2024ccc4a4da3a2e727925bb85858",
            "601d5e0a05cf4ea4b076f1616b8420ee",
            "f13ccede8669414486d7e0a187c7aab4",
            "8a8aff2328a14e0b90654d6560e0d810",
            "eeb83f564f33415488977757e0579faf",
            "4cca8d9c6f6c427f9eba430a41ca7681",
            "b156b90a40b941c1a732df69c7169c5c",
            "af1a0af1a9a4481ab72df2f932d46fa0",
            "10a48f8784464b5e89bc2fefd055aa58",
            "19e284267f2c4719b287f30195e6d013",
            "595627d51f934df48b71239d42deac6e",
            "26ecf671ce9b400cbb50a0a0429a8173",
            "667cd9e77ad94997966cea7633f6b794",
            "01136e6873d04ceb9d2b92f54f905a9e",
            "7ae17c9d047b4bc699afee54f65752a5",
            "87fb1101c28442b49961e1275d1cd381",
            "64cd0cb8260149b7b3a4460c29186ad3",
            "88fc6f1ab9cb4cd6b9e95de64f1f1ef5",
            "a90996f6717c447aa459fb0a04f19457",
            "2222bfdf561042b8bc7b52e5156287ed",
            "be22f9175b2d4064b7ea2919d15063dc"
          ]
        },
        "id": "mfKd9PsI-I_p",
        "outputId": "ede166c5-b3d4-403b-9db8-8e07759e85b6"
      },
      "outputs": [
        {
          "data": {
            "application/vnd.jupyter.widget-view+json": {
              "model_id": "730a6eb2b61d4812a724e75b3ad14748",
              "version_major": 2,
              "version_minor": 0
            },
            "text/plain": [
              "VBox(children=(HBox(children=(Label(value='2021-07-03T06-47-39-frame_0000.jpeg (not annotated)'),)), HBox(chil…"
            ]
          },
          "metadata": {
            "application/vnd.jupyter.widget-view+json": {
              "colab": {
                "custom_widget_manager": {
                  "url": "https://ssl.gstatic.com/colaboratory-static/widgets/colab-cdn-widget-manager/a8874ba6619b6106/manager.min.js"
                }
              }
            }
          },
          "output_type": "display_data"
        }
      ],
      "source": [
        "dataset.labeler.StartPyLaber(yolo_model=model)"
      ]
    },
    {
      "cell_type": "markdown",
      "metadata": {
        "id": "uYJi0Gmg-I_p"
      },
      "source": [
        "Run the below cell to check how many example of each class you have annotated. It is recomended to label at least 10 examples of each class before using the annotations to train a new model. "
      ]
    },
    {
      "cell_type": "code",
      "execution_count": 18,
      "metadata": {
        "colab": {
          "base_uri": "https://localhost:8080/"
        },
        "id": "4sawm3uk-I_p",
        "outputId": "c8ffd8b5-c1a9-40e3-fc18-bfa6275c39d2"
      },
      "outputs": [
        {
          "data": {
            "text/plain": [
              "            92\n",
              "Nut         19\n",
              "Squirrel     5\n",
              "Name: cat_name, dtype: int64"
            ]
          },
          "execution_count": 18,
          "metadata": {},
          "output_type": "execute_result"
        }
      ],
      "source": [
        "dataset.analyze.class_counts"
      ]
    },
    {
      "cell_type": "markdown",
      "metadata": {
        "id": "k6y8T-LdM7yg"
      },
      "source": [
        "Export the annotations so you can use them to train a new model. "
      ]
    },
    {
      "cell_type": "code",
      "execution_count": 19,
      "metadata": {
        "colab": {
          "base_uri": "https://localhost:8080/"
        },
        "id": "20Qp41VUMJqT",
        "outputId": "aff79899-2e05-4faa-bb51-5511f49630ad"
      },
      "outputs": [
        {
          "data": {
            "text/plain": [
              "['training/dataset.yaml',\n",
              " 'training/labels/2021-07-03T06-47-39-frame_0000.txt',\n",
              " 'training/labels/2021-07-03T07-52-45-frame_0002.txt',\n",
              " 'training/labels/2021-07-03T07-55-20-frame_0003.txt',\n",
              " 'training/labels/2021-07-03T07-55-47-frame_0006.txt',\n",
              " 'training/labels/2021-07-03T06-47-39-frame_0001.txt',\n",
              " 'training/labels/2021-07-03T07-55-47-frame_0001.txt',\n",
              " 'training/labels/2021-07-03T06-41-41-frame_0000.txt',\n",
              " 'training/labels/2021-07-03T07-13-34-frame_0003.txt']"
            ]
          },
          "execution_count": 19,
          "metadata": {},
          "output_type": "execute_result"
        }
      ],
      "source": [
        "dataset.export.ExportToYoloV5(output_path='training/labels', yaml_file='dataset.yaml',copy_images=True)"
      ]
    },
    {
      "cell_type": "markdown",
      "metadata": {
        "id": "kCL9U0lHOnuB"
      },
      "source": [
        "Use the annotations you just created to train a new model. It is recomended to train new models for at least 100 epochs. "
      ]
    },
    {
      "cell_type": "code",
      "execution_count": 20,
      "metadata": {
        "colab": {
          "base_uri": "https://localhost:8080/"
        },
        "id": "_ulnXfSqU9A5",
        "outputId": "795bb445-0c5f-40ce-ccf8-4c2892468742"
      },
      "outputs": [
        {
          "name": "stdout",
          "output_type": "stream",
          "text": [
            "/content/yolov5\n",
            "\u001b[34m\u001b[1mtrain: \u001b[0mweights=yolov5s.pt, cfg=, data=../training/dataset.yaml, hyp=data/hyps/hyp.scratch.yaml, epochs=10, batch_size=20, imgsz=960, rect=False, resume=False, nosave=False, noval=False, noautoanchor=False, evolve=None, bucket=, cache=ram, image_weights=False, device=, multi_scale=False, single_cls=False, adam=False, sync_bn=False, workers=8, project=runs/train, name=exp, exist_ok=True, quad=False, linear_lr=False, label_smoothing=0.0, patience=100, freeze=0, save_period=-1, local_rank=-1, entity=None, upload_dataset=False, bbox_interval=-1, artifact_alias=latest\n",
            "\u001b[34m\u001b[1mgithub: \u001b[0mup to date with https://github.com/ultralytics/yolov5 ✅\n",
            "YOLOv5 🚀 v6.0-110-gfcd180d torch 1.10.0+cu111 CUDA:0 (Tesla P100-PCIE-16GB, 16281MiB)\n",
            "\n",
            "\u001b[34m\u001b[1mhyperparameters: \u001b[0mlr0=0.01, lrf=0.1, momentum=0.937, weight_decay=0.0005, warmup_epochs=3.0, warmup_momentum=0.8, warmup_bias_lr=0.1, box=0.05, cls=0.5, cls_pw=1.0, obj=1.0, obj_pw=1.0, iou_t=0.2, anchor_t=4.0, fl_gamma=0.0, hsv_h=0.015, hsv_s=0.7, hsv_v=0.4, degrees=0.0, translate=0.1, scale=0.5, shear=0.0, perspective=0.0, flipud=0.0, fliplr=0.5, mosaic=1.0, mixup=0.0, copy_paste=0.0\n",
            "\u001b[34m\u001b[1mWeights & Biases: \u001b[0mrun 'pip install wandb' to automatically track and visualize YOLOv5 🚀 runs (RECOMMENDED)\n",
            "\u001b[34m\u001b[1mTensorBoard: \u001b[0mStart with 'tensorboard --logdir runs/train', view at http://localhost:6006/\n",
            "Downloading https://github.com/ultralytics/yolov5/releases/download/v6.0/yolov5s.pt to yolov5s.pt...\n",
            "100% 14.0M/14.0M [00:00<00:00, 19.9MB/s]\n",
            "\n",
            "Overriding model.yaml nc=80 with nc=2\n",
            "\n",
            "                 from  n    params  module                                  arguments                     \n",
            "  0                -1  1      3520  models.common.Conv                      [3, 32, 6, 2, 2]              \n",
            "  1                -1  1     18560  models.common.Conv                      [32, 64, 3, 2]                \n",
            "  2                -1  1     18816  models.common.C3                        [64, 64, 1]                   \n",
            "  3                -1  1     73984  models.common.Conv                      [64, 128, 3, 2]               \n",
            "  4                -1  2    115712  models.common.C3                        [128, 128, 2]                 \n",
            "  5                -1  1    295424  models.common.Conv                      [128, 256, 3, 2]              \n",
            "  6                -1  3    625152  models.common.C3                        [256, 256, 3]                 \n",
            "  7                -1  1   1180672  models.common.Conv                      [256, 512, 3, 2]              \n",
            "  8                -1  1   1182720  models.common.C3                        [512, 512, 1]                 \n",
            "  9                -1  1    656896  models.common.SPPF                      [512, 512, 5]                 \n",
            " 10                -1  1    131584  models.common.Conv                      [512, 256, 1, 1]              \n",
            " 11                -1  1         0  torch.nn.modules.upsampling.Upsample    [None, 2, 'nearest']          \n",
            " 12           [-1, 6]  1         0  models.common.Concat                    [1]                           \n",
            " 13                -1  1    361984  models.common.C3                        [512, 256, 1, False]          \n",
            " 14                -1  1     33024  models.common.Conv                      [256, 128, 1, 1]              \n",
            " 15                -1  1         0  torch.nn.modules.upsampling.Upsample    [None, 2, 'nearest']          \n",
            " 16           [-1, 4]  1         0  models.common.Concat                    [1]                           \n",
            " 17                -1  1     90880  models.common.C3                        [256, 128, 1, False]          \n",
            " 18                -1  1    147712  models.common.Conv                      [128, 128, 3, 2]              \n",
            " 19          [-1, 14]  1         0  models.common.Concat                    [1]                           \n",
            " 20                -1  1    296448  models.common.C3                        [256, 256, 1, False]          \n",
            " 21                -1  1    590336  models.common.Conv                      [256, 256, 3, 2]              \n",
            " 22          [-1, 10]  1         0  models.common.Concat                    [1]                           \n",
            " 23                -1  1   1182720  models.common.C3                        [512, 512, 1, False]          \n",
            " 24      [17, 20, 23]  1     18879  models.yolo.Detect                      [2, [[10, 13, 16, 30, 33, 23], [30, 61, 62, 45, 59, 119], [116, 90, 156, 198, 373, 326]], [128, 256, 512]]\n",
            "Model Summary: 270 layers, 7025023 parameters, 7025023 gradients, 15.9 GFLOPs\n",
            "\n",
            "Transferred 343/349 items from yolov5s.pt\n",
            "Scaled weight_decay = 0.00046875\n",
            "\u001b[34m\u001b[1moptimizer:\u001b[0m SGD with parameter groups 57 weight, 60 weight (no decay), 60 bias\n",
            "\u001b[34m\u001b[1malbumentations: \u001b[0mversion 1.0.3 required by YOLOv5, but version 0.1.12 is currently installed\n",
            "\u001b[34m\u001b[1mtrain: \u001b[0mScanning '../training/labels' images and labels...8 found, 0 missing, 0 empty, 0 corrupted: 100% 8/8 [00:00<00:00, 529.55it/s]\n",
            "\u001b[34m\u001b[1mtrain: \u001b[0mNew cache created: ../training/labels.cache\n",
            "\u001b[34m\u001b[1mtrain: \u001b[0mCaching images (0.0GB ram): 100% 8/8 [00:00<00:00, 146.74it/s]\n",
            "\u001b[34m\u001b[1mval: \u001b[0mScanning '../training/labels.cache' images and labels... 8 found, 0 missing, 0 empty, 0 corrupted: 100% 8/8 [00:00<?, ?it/s]\n",
            "\u001b[34m\u001b[1mval: \u001b[0mCaching images (0.0GB ram): 100% 8/8 [00:00<00:00, 63.72it/s]\n",
            "Plotting labels to runs/train/exp/labels.jpg... \n",
            "\n",
            "\u001b[34m\u001b[1mAutoAnchor: \u001b[0m5.67 anchors/target, 1.000 Best Possible Recall (BPR). Current anchors are a good fit to dataset ✅\n",
            "Image sizes 960 train, 960 val\n",
            "Using 2 dataloader workers\n",
            "Logging results to \u001b[1mruns/train/exp\u001b[0m\n",
            "Starting training for 10 epochs...\n",
            "\n",
            "     Epoch   gpu_mem       box       obj       cls    labels  img_size\n",
            "       0/9     4.22G      0.12   0.07053   0.03374        44       960: 100% 1/1 [00:01<00:00,  2.00s/it]\n",
            "               Class     Images     Labels          P          R     mAP@.5 mAP@.5:.95: 100% 1/1 [00:00<00:00,  1.96it/s]\n",
            "                 all          8         24    0.00399        0.1    0.00129   0.000531\n",
            "\n",
            "     Epoch   gpu_mem       box       obj       cls    labels  img_size\n",
            "       1/9     4.25G    0.1189   0.08319   0.03299        64       960: 100% 1/1 [00:00<00:00,  2.25it/s]\n",
            "               Class     Images     Labels          P          R     mAP@.5 mAP@.5:.95: 100% 1/1 [00:00<00:00,  2.44it/s]\n",
            "                 all          8         24    0.00379        0.1   0.000983   0.000393\n",
            "\n",
            "     Epoch   gpu_mem       box       obj       cls    labels  img_size\n",
            "       2/9     4.25G    0.1162   0.07146    0.0317        39       960: 100% 1/1 [00:00<00:00,  2.22it/s]\n",
            "               Class     Images     Labels          P          R     mAP@.5 mAP@.5:.95: 100% 1/1 [00:00<00:00,  2.44it/s]\n",
            "                 all          8         24    0.00404        0.1    0.00137   0.000477\n",
            "\n",
            "     Epoch   gpu_mem       box       obj       cls    labels  img_size\n",
            "       3/9     4.25G    0.1149   0.06066   0.03205        25       960: 100% 1/1 [00:00<00:00,  2.28it/s]\n",
            "               Class     Images     Labels          P          R     mAP@.5 mAP@.5:.95: 100% 1/1 [00:00<00:00,  3.21it/s]\n",
            "                 all          8         24    0.00372        0.1    0.00136   0.000465\n",
            "\n",
            "     Epoch   gpu_mem       box       obj       cls    labels  img_size\n",
            "       4/9     4.25G    0.1205   0.06365   0.03327        33       960: 100% 1/1 [00:00<00:00,  2.37it/s]\n",
            "               Class     Images     Labels          P          R     mAP@.5 mAP@.5:.95: 100% 1/1 [00:00<00:00,  3.15it/s]\n",
            "                 all          8         24    0.00332        0.1    0.00139   0.000524\n",
            "\n",
            "     Epoch   gpu_mem       box       obj       cls    labels  img_size\n",
            "       5/9     4.25G    0.1221    0.0656   0.03373        43       960: 100% 1/1 [00:00<00:00,  2.35it/s]\n",
            "               Class     Images     Labels          P          R     mAP@.5 mAP@.5:.95: 100% 1/1 [00:00<00:00,  3.23it/s]\n",
            "                 all          8         24    0.00373        0.1    0.00148   0.000545\n",
            "\n",
            "     Epoch   gpu_mem       box       obj       cls    labels  img_size\n",
            "       6/9     4.25G    0.1148   0.05879   0.03313        25       960: 100% 1/1 [00:00<00:00,  2.34it/s]\n",
            "               Class     Images     Labels          P          R     mAP@.5 mAP@.5:.95: 100% 1/1 [00:00<00:00,  3.17it/s]\n",
            "                 all          8         24    0.00394        0.1     0.0015   0.000547\n",
            "\n",
            "     Epoch   gpu_mem       box       obj       cls    labels  img_size\n",
            "       7/9     4.25G    0.1144   0.06173   0.03004        29       960: 100% 1/1 [00:00<00:00,  2.37it/s]\n",
            "               Class     Images     Labels          P          R     mAP@.5 mAP@.5:.95: 100% 1/1 [00:00<00:00,  3.41it/s]\n",
            "                 all          8         24     0.0034        0.1    0.00182     0.0006\n",
            "\n",
            "     Epoch   gpu_mem       box       obj       cls    labels  img_size\n",
            "       8/9     4.25G    0.1145   0.06154   0.03276        32       960: 100% 1/1 [00:00<00:00,  2.35it/s]\n",
            "               Class     Images     Labels          P          R     mAP@.5 mAP@.5:.95: 100% 1/1 [00:00<00:00,  3.46it/s]\n",
            "                 all          8         24    0.00363        0.1    0.00187   0.000607\n",
            "\n",
            "     Epoch   gpu_mem       box       obj       cls    labels  img_size\n",
            "       9/9     4.25G    0.1193   0.05904     0.033        34       960: 100% 1/1 [00:00<00:00,  2.29it/s]\n",
            "               Class     Images     Labels          P          R     mAP@.5 mAP@.5:.95: 100% 1/1 [00:00<00:00,  3.44it/s]\n",
            "                 all          8         24    0.00409        0.1    0.00193   0.000735\n",
            "\n",
            "10 epochs completed in 0.004 hours.\n",
            "Optimizer stripped from runs/train/exp/weights/last.pt, 14.5MB\n",
            "Optimizer stripped from runs/train/exp/weights/best.pt, 14.5MB\n",
            "\n",
            "Validating runs/train/exp/weights/best.pt...\n",
            "Fusing layers... \n",
            "Model Summary: 213 layers, 7015519 parameters, 0 gradients, 15.8 GFLOPs\n",
            "               Class     Images     Labels          P          R     mAP@.5 mAP@.5:.95: 100% 1/1 [00:00<00:00,  2.64it/s]\n",
            "                 all          8         24    0.00412        0.1    0.00195   0.000745\n",
            "                 Nut          8         19          0          0          0          0\n",
            "            Squirrel          8          5    0.00823        0.2     0.0039    0.00149\n",
            "Results saved to \u001b[1mruns/train/exp\u001b[0m\n",
            "/content\n"
          ]
        }
      ],
      "source": [
        "%cd yolov5\n",
        "!python train.py --img 960 --batch 20 --epochs 10 --data ../training/dataset.yaml --weights yolov5s.pt --cache --exist-ok\n",
        "%cd ../"
      ]
    },
    {
      "cell_type": "markdown",
      "metadata": {
        "id": "XlsuBRc3QBHR"
      },
      "source": [
        "After the model has completed training: \n",
        "- Review the model summary above. Check the precision, recall, and mAP values for all of the classes. If there is a class that has worse values than the others, annotate more samples for that class. \n",
        "- The model weights will be saved to *runs/train/exp/weights/best.pt*. To perform interative labeling and training reload this model into the labeling tool and use it to train additional images. Repeat and label additional images until desired results are achieved. "
      ]
    }
  ],
  "metadata": {
    "accelerator": "GPU",
    "colab": {
      "collapsed_sections": [],
      "name": "pylabeler.ipynb",
      "provenance": []
    },
    "interpreter": {
      "hash": "de5e368ab5494158da905fb8b1c2e4fef8844fbfaace7cceca0beab983df3a80"
    },
    "kernelspec": {
      "display_name": "Python 3.8.5 64-bit ('penv': venv)",
      "name": "python3"
    },
    "language_info": {
      "codemirror_mode": {
        "name": "ipython",
        "version": 3
      },
      "file_extension": ".py",
      "mimetype": "text/x-python",
      "name": "python",
      "nbconvert_exporter": "python",
      "pygments_lexer": "ipython3",
      "version": "3.8.5"
    },
    "widgets": {
      "application/vnd.jupyter.widget-state+json": {
        "01136e6873d04ceb9d2b92f54f905a9e": {
          "model_module": "@jupyter-widgets/base",
          "model_module_version": "1.2.0",
          "model_name": "LayoutModel",
          "state": {
            "_model_module": "@jupyter-widgets/base",
            "_model_module_version": "1.2.0",
            "_model_name": "LayoutModel",
            "_view_count": null,
            "_view_module": "@jupyter-widgets/base",
            "_view_module_version": "1.2.0",
            "_view_name": "LayoutView",
            "align_content": null,
            "align_items": null,
            "align_self": null,
            "border": null,
            "bottom": null,
            "display": null,
            "flex": null,
            "flex_flow": null,
            "grid_area": null,
            "grid_auto_columns": null,
            "grid_auto_flow": null,
            "grid_auto_rows": null,
            "grid_column": null,
            "grid_gap": null,
            "grid_row": null,
            "grid_template_areas": null,
            "grid_template_columns": null,
            "grid_template_rows": null,
            "height": null,
            "justify_content": null,
            "justify_items": null,
            "left": null,
            "margin": null,
            "max_height": null,
            "max_width": null,
            "min_height": null,
            "min_width": null,
            "object_fit": null,
            "object_position": null,
            "order": null,
            "overflow": null,
            "overflow_x": null,
            "overflow_y": null,
            "padding": null,
            "right": null,
            "top": null,
            "visibility": null,
            "width": "100px"
          }
        },
        "10a48f8784464b5e89bc2fefd055aa58": {
          "model_module": "@jupyter-widgets/controls",
          "model_module_version": "1.5.0",
          "model_name": "ButtonStyleModel",
          "state": {
            "_model_module": "@jupyter-widgets/controls",
            "_model_module_version": "1.5.0",
            "_model_name": "ButtonStyleModel",
            "_view_count": null,
            "_view_module": "@jupyter-widgets/base",
            "_view_module_version": "1.2.0",
            "_view_name": "StyleView",
            "button_color": null,
            "font_weight": ""
          }
        },
        "13b19e92d6d64808a2eb388bf05610de": {
          "model_module": "@jupyter-widgets/base",
          "model_module_version": "1.2.0",
          "model_name": "LayoutModel",
          "state": {
            "_model_module": "@jupyter-widgets/base",
            "_model_module_version": "1.2.0",
            "_model_name": "LayoutModel",
            "_view_count": null,
            "_view_module": "@jupyter-widgets/base",
            "_view_module_version": "1.2.0",
            "_view_name": "LayoutView",
            "align_content": null,
            "align_items": null,
            "align_self": null,
            "border": null,
            "bottom": null,
            "display": null,
            "flex": null,
            "flex_flow": null,
            "grid_area": null,
            "grid_auto_columns": null,
            "grid_auto_flow": null,
            "grid_auto_rows": null,
            "grid_column": null,
            "grid_gap": null,
            "grid_row": null,
            "grid_template_areas": null,
            "grid_template_columns": null,
            "grid_template_rows": null,
            "height": null,
            "justify_content": null,
            "justify_items": null,
            "left": null,
            "margin": null,
            "max_height": null,
            "max_width": null,
            "min_height": null,
            "min_width": null,
            "object_fit": null,
            "object_position": null,
            "order": null,
            "overflow": null,
            "overflow_x": null,
            "overflow_y": null,
            "padding": null,
            "right": null,
            "top": null,
            "visibility": null,
            "width": null
          }
        },
        "19e284267f2c4719b287f30195e6d013": {
          "model_module": "@jupyter-widgets/base",
          "model_module_version": "1.2.0",
          "model_name": "LayoutModel",
          "state": {
            "_model_module": "@jupyter-widgets/base",
            "_model_module_version": "1.2.0",
            "_model_name": "LayoutModel",
            "_view_count": null,
            "_view_module": "@jupyter-widgets/base",
            "_view_module_version": "1.2.0",
            "_view_name": "LayoutView",
            "align_content": null,
            "align_items": null,
            "align_self": null,
            "border": null,
            "bottom": null,
            "display": null,
            "flex": null,
            "flex_flow": null,
            "grid_area": null,
            "grid_auto_columns": null,
            "grid_auto_flow": null,
            "grid_auto_rows": null,
            "grid_column": null,
            "grid_gap": null,
            "grid_row": null,
            "grid_template_areas": null,
            "grid_template_columns": null,
            "grid_template_rows": null,
            "height": null,
            "justify_content": null,
            "justify_items": null,
            "left": null,
            "margin": null,
            "max_height": null,
            "max_width": null,
            "min_height": null,
            "min_width": null,
            "object_fit": null,
            "object_position": null,
            "order": null,
            "overflow": null,
            "overflow_x": null,
            "overflow_y": null,
            "padding": null,
            "right": null,
            "top": null,
            "visibility": null,
            "width": "70px"
          }
        },
        "2222bfdf561042b8bc7b52e5156287ed": {
          "model_module": "@jupyter-widgets/base",
          "model_module_version": "1.2.0",
          "model_name": "LayoutModel",
          "state": {
            "_model_module": "@jupyter-widgets/base",
            "_model_module_version": "1.2.0",
            "_model_name": "LayoutModel",
            "_view_count": null,
            "_view_module": "@jupyter-widgets/base",
            "_view_module_version": "1.2.0",
            "_view_name": "LayoutView",
            "align_content": null,
            "align_items": null,
            "align_self": null,
            "border": null,
            "bottom": null,
            "display": null,
            "flex": null,
            "flex_flow": null,
            "grid_area": null,
            "grid_auto_columns": null,
            "grid_auto_flow": null,
            "grid_auto_rows": null,
            "grid_column": null,
            "grid_gap": null,
            "grid_row": null,
            "grid_template_areas": null,
            "grid_template_columns": null,
            "grid_template_rows": null,
            "height": null,
            "justify_content": null,
            "justify_items": null,
            "left": null,
            "margin": null,
            "max_height": null,
            "max_width": null,
            "min_height": null,
            "min_width": null,
            "object_fit": null,
            "object_position": null,
            "order": null,
            "overflow": null,
            "overflow_x": null,
            "overflow_y": null,
            "padding": null,
            "right": null,
            "top": null,
            "visibility": null,
            "width": "35px"
          }
        },
        "26ecf671ce9b400cbb50a0a0429a8173": {
          "model_module": "@jupyter-widgets/base",
          "model_module_version": "1.2.0",
          "model_name": "LayoutModel",
          "state": {
            "_model_module": "@jupyter-widgets/base",
            "_model_module_version": "1.2.0",
            "_model_name": "LayoutModel",
            "_view_count": null,
            "_view_module": "@jupyter-widgets/base",
            "_view_module_version": "1.2.0",
            "_view_name": "LayoutView",
            "align_content": null,
            "align_items": null,
            "align_self": null,
            "border": null,
            "bottom": null,
            "display": null,
            "flex": null,
            "flex_flow": null,
            "grid_area": null,
            "grid_auto_columns": null,
            "grid_auto_flow": null,
            "grid_auto_rows": null,
            "grid_column": null,
            "grid_gap": null,
            "grid_row": null,
            "grid_template_areas": null,
            "grid_template_columns": null,
            "grid_template_rows": null,
            "height": null,
            "justify_content": null,
            "justify_items": null,
            "left": null,
            "margin": null,
            "max_height": null,
            "max_width": null,
            "min_height": null,
            "min_width": null,
            "object_fit": null,
            "object_position": null,
            "order": null,
            "overflow": null,
            "overflow_x": null,
            "overflow_y": null,
            "padding": null,
            "right": null,
            "top": null,
            "visibility": null,
            "width": "100px"
          }
        },
        "290f91e1dcb045c88430b22fd8305d72": {
          "model_module": "jupyter-bbox-widget",
          "model_module_version": "^0.3.3",
          "model_name": "BBoxModel",
          "state": {
            "_dom_classes": [],
            "_model_module": "jupyter-bbox-widget",
            "_model_module_version": "^0.3.3",
            "_model_name": "BBoxModel",
            "_view_count": null,
            "_view_module": "jupyter-bbox-widget",
            "_view_module_version": "^0.3.3",
            "_view_name": "BBoxView",
            "bboxes": [],
            "classes": [
              "Squirrel",
              "Nut"
            ],
            "colors": [
              "#1f77b4",
              "#ff7f0e",
              "#2ca02c",
              "#d62728",
              "#9467bd",
              "#8c564b",
              "#e377c2",
              "#7f7f7f",
              "#bcbd22",
              "#17becf"
            ],
            "hide_buttons": true,
            "image": "data:image/jpg;base64,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",
            "layout": "IPY_MODEL_be22f9175b2d4064b7ea2919d15063dc",
            "selected_index": -1,
            "view_only": false
          }
        },
        "2c8f9d5089fa4fc7a99463749cdcfa6e": {
          "model_module": "@jupyter-widgets/controls",
          "model_module_version": "1.5.0",
          "model_name": "HBoxModel",
          "state": {
            "_dom_classes": [],
            "_model_module": "@jupyter-widgets/controls",
            "_model_module_version": "1.5.0",
            "_model_name": "HBoxModel",
            "_view_count": null,
            "_view_module": "@jupyter-widgets/controls",
            "_view_module_version": "1.5.0",
            "_view_name": "HBoxView",
            "box_style": "",
            "children": [
              "IPY_MODEL_8e2e28f977da46d9ab590f5e6d6f9e55",
              "IPY_MODEL_d24dfb71853242b697b8925b2af849ff",
              "IPY_MODEL_38018ac5d3d94c41b620f135fa163165",
              "IPY_MODEL_3c2f2bc08af4493bb2bbdaaf0b4bf1cf",
              "IPY_MODEL_ee04b0f850614f848b393c61cbf4766d",
              "IPY_MODEL_9498c434567d4e47ace7e8523898c37b"
            ],
            "layout": "IPY_MODEL_b83bd1499557466e98c83ac74fbc1f2e"
          }
        },
        "2e35f5cf57bd47dabf80612e9711a39c": {
          "model_module": "@jupyter-widgets/controls",
          "model_module_version": "1.5.0",
          "model_name": "LabelModel",
          "state": {
            "_dom_classes": [],
            "_model_module": "@jupyter-widgets/controls",
            "_model_module_version": "1.5.0",
            "_model_name": "LabelModel",
            "_view_count": null,
            "_view_module": "@jupyter-widgets/controls",
            "_view_module_version": "1.5.0",
            "_view_name": "LabelView",
            "description": "",
            "description_tooltip": null,
            "layout": "IPY_MODEL_87fb1101c28442b49961e1275d1cd381",
            "placeholder": "​",
            "style": "IPY_MODEL_7ae17c9d047b4bc699afee54f65752a5",
            "value": "Add class:"
          }
        },
        "305e72c8a7f148d38b02ae686af1e4c6": {
          "model_module": "@jupyter-widgets/base",
          "model_module_version": "1.2.0",
          "model_name": "LayoutModel",
          "state": {
            "_model_module": "@jupyter-widgets/base",
            "_model_module_version": "1.2.0",
            "_model_name": "LayoutModel",
            "_view_count": null,
            "_view_module": "@jupyter-widgets/base",
            "_view_module_version": "1.2.0",
            "_view_name": "LayoutView",
            "align_content": null,
            "align_items": null,
            "align_self": null,
            "border": null,
            "bottom": null,
            "display": null,
            "flex": null,
            "flex_flow": null,
            "grid_area": null,
            "grid_auto_columns": null,
            "grid_auto_flow": null,
            "grid_auto_rows": null,
            "grid_column": null,
            "grid_gap": null,
            "grid_row": null,
            "grid_template_areas": null,
            "grid_template_columns": null,
            "grid_template_rows": null,
            "height": null,
            "justify_content": null,
            "justify_items": null,
            "left": null,
            "margin": null,
            "max_height": null,
            "max_width": null,
            "min_height": null,
            "min_width": null,
            "object_fit": null,
            "object_position": null,
            "order": null,
            "overflow": null,
            "overflow_x": null,
            "overflow_y": null,
            "padding": null,
            "right": null,
            "top": null,
            "visibility": null,
            "width": null
          }
        },
        "38018ac5d3d94c41b620f135fa163165": {
          "model_module": "@jupyter-widgets/controls",
          "model_module_version": "1.5.0",
          "model_name": "ButtonModel",
          "state": {
            "_dom_classes": [],
            "_model_module": "@jupyter-widgets/controls",
            "_model_module_version": "1.5.0",
            "_model_name": "ButtonModel",
            "_view_count": null,
            "_view_module": "@jupyter-widgets/controls",
            "_view_module_version": "1.5.0",
            "_view_name": "ButtonView",
            "button_style": "",
            "description": "",
            "disabled": false,
            "icon": "arrow-right",
            "layout": "IPY_MODEL_af1a0af1a9a4481ab72df2f932d46fa0",
            "style": "IPY_MODEL_b156b90a40b941c1a732df69c7169c5c",
            "tooltip": ""
          }
        },
        "3c2f2bc08af4493bb2bbdaaf0b4bf1cf": {
          "model_module": "@jupyter-widgets/controls",
          "model_module_version": "1.5.0",
          "model_name": "ButtonModel",
          "state": {
            "_dom_classes": [],
            "_model_module": "@jupyter-widgets/controls",
            "_model_module_version": "1.5.0",
            "_model_name": "ButtonModel",
            "_view_count": null,
            "_view_module": "@jupyter-widgets/controls",
            "_view_module_version": "1.5.0",
            "_view_name": "ButtonView",
            "button_style": "",
            "description": "Save",
            "disabled": false,
            "icon": "check",
            "layout": "IPY_MODEL_19e284267f2c4719b287f30195e6d013",
            "style": "IPY_MODEL_10a48f8784464b5e89bc2fefd055aa58",
            "tooltip": ""
          }
        },
        "4cca8d9c6f6c427f9eba430a41ca7681": {
          "model_module": "@jupyter-widgets/base",
          "model_module_version": "1.2.0",
          "model_name": "LayoutModel",
          "state": {
            "_model_module": "@jupyter-widgets/base",
            "_model_module_version": "1.2.0",
            "_model_name": "LayoutModel",
            "_view_count": null,
            "_view_module": "@jupyter-widgets/base",
            "_view_module_version": "1.2.0",
            "_view_name": "LayoutView",
            "align_content": null,
            "align_items": null,
            "align_self": null,
            "border": null,
            "bottom": null,
            "display": null,
            "flex": null,
            "flex_flow": null,
            "grid_area": null,
            "grid_auto_columns": null,
            "grid_auto_flow": null,
            "grid_auto_rows": null,
            "grid_column": null,
            "grid_gap": null,
            "grid_row": null,
            "grid_template_areas": null,
            "grid_template_columns": null,
            "grid_template_rows": null,
            "height": null,
            "justify_content": null,
            "justify_items": null,
            "left": null,
            "margin": null,
            "max_height": null,
            "max_width": null,
            "min_height": null,
            "min_width": null,
            "object_fit": null,
            "object_position": null,
            "order": null,
            "overflow": null,
            "overflow_x": null,
            "overflow_y": null,
            "padding": null,
            "right": null,
            "top": null,
            "visibility": null,
            "width": null
          }
        },
        "595627d51f934df48b71239d42deac6e": {
          "model_module": "@jupyter-widgets/controls",
          "model_module_version": "1.5.0",
          "model_name": "ButtonStyleModel",
          "state": {
            "_model_module": "@jupyter-widgets/controls",
            "_model_module_version": "1.5.0",
            "_model_name": "ButtonStyleModel",
            "_view_count": null,
            "_view_module": "@jupyter-widgets/base",
            "_view_module_version": "1.2.0",
            "_view_name": "StyleView",
            "button_color": null,
            "font_weight": ""
          }
        },
        "601d5e0a05cf4ea4b076f1616b8420ee": {
          "model_module": "@jupyter-widgets/base",
          "model_module_version": "1.2.0",
          "model_name": "LayoutModel",
          "state": {
            "_model_module": "@jupyter-widgets/base",
            "_model_module_version": "1.2.0",
            "_model_name": "LayoutModel",
            "_view_count": null,
            "_view_module": "@jupyter-widgets/base",
            "_view_module_version": "1.2.0",
            "_view_name": "LayoutView",
            "align_content": null,
            "align_items": null,
            "align_self": null,
            "border": null,
            "bottom": null,
            "display": null,
            "flex": null,
            "flex_flow": null,
            "grid_area": null,
            "grid_auto_columns": null,
            "grid_auto_flow": null,
            "grid_auto_rows": null,
            "grid_column": null,
            "grid_gap": null,
            "grid_row": null,
            "grid_template_areas": null,
            "grid_template_columns": null,
            "grid_template_rows": null,
            "height": null,
            "justify_content": null,
            "justify_items": null,
            "left": null,
            "margin": null,
            "max_height": null,
            "max_width": null,
            "min_height": null,
            "min_width": null,
            "object_fit": null,
            "object_position": null,
            "order": null,
            "overflow": null,
            "overflow_x": null,
            "overflow_y": null,
            "padding": null,
            "right": null,
            "top": null,
            "visibility": null,
            "width": null
          }
        },
        "64cd0cb8260149b7b3a4460c29186ad3": {
          "model_module": "@jupyter-widgets/controls",
          "model_module_version": "1.5.0",
          "model_name": "DescriptionStyleModel",
          "state": {
            "_model_module": "@jupyter-widgets/controls",
            "_model_module_version": "1.5.0",
            "_model_name": "DescriptionStyleModel",
            "_view_count": null,
            "_view_module": "@jupyter-widgets/base",
            "_view_module_version": "1.2.0",
            "_view_name": "StyleView",
            "description_width": ""
          }
        },
        "667cd9e77ad94997966cea7633f6b794": {
          "model_module": "@jupyter-widgets/controls",
          "model_module_version": "1.5.0",
          "model_name": "ButtonStyleModel",
          "state": {
            "_model_module": "@jupyter-widgets/controls",
            "_model_module_version": "1.5.0",
            "_model_name": "ButtonStyleModel",
            "_view_count": null,
            "_view_module": "@jupyter-widgets/base",
            "_view_module_version": "1.2.0",
            "_view_name": "StyleView",
            "button_color": null,
            "font_weight": ""
          }
        },
        "730a6eb2b61d4812a724e75b3ad14748": {
          "model_module": "@jupyter-widgets/controls",
          "model_module_version": "1.5.0",
          "model_name": "VBoxModel",
          "state": {
            "_dom_classes": [],
            "_model_module": "@jupyter-widgets/controls",
            "_model_module_version": "1.5.0",
            "_model_name": "VBoxModel",
            "_view_count": null,
            "_view_module": "@jupyter-widgets/controls",
            "_view_module_version": "1.5.0",
            "_view_name": "VBoxView",
            "box_style": "",
            "children": [
              "IPY_MODEL_769e1d10411649589484005d57f6d448",
              "IPY_MODEL_2c8f9d5089fa4fc7a99463749cdcfa6e",
              "IPY_MODEL_290f91e1dcb045c88430b22fd8305d72",
              "IPY_MODEL_ec55278604864ce4be8ae94125db8a76"
            ],
            "layout": "IPY_MODEL_13b19e92d6d64808a2eb388bf05610de"
          }
        },
        "769e1d10411649589484005d57f6d448": {
          "model_module": "@jupyter-widgets/controls",
          "model_module_version": "1.5.0",
          "model_name": "HBoxModel",
          "state": {
            "_dom_classes": [],
            "_model_module": "@jupyter-widgets/controls",
            "_model_module_version": "1.5.0",
            "_model_name": "HBoxModel",
            "_view_count": null,
            "_view_module": "@jupyter-widgets/controls",
            "_view_module_version": "1.5.0",
            "_view_name": "HBoxView",
            "box_style": "",
            "children": [
              "IPY_MODEL_f82bb449e91947b4a350f7937451d52a"
            ],
            "layout": "IPY_MODEL_305e72c8a7f148d38b02ae686af1e4c6"
          }
        },
        "7ae17c9d047b4bc699afee54f65752a5": {
          "model_module": "@jupyter-widgets/controls",
          "model_module_version": "1.5.0",
          "model_name": "DescriptionStyleModel",
          "state": {
            "_model_module": "@jupyter-widgets/controls",
            "_model_module_version": "1.5.0",
            "_model_name": "DescriptionStyleModel",
            "_view_count": null,
            "_view_module": "@jupyter-widgets/base",
            "_view_module_version": "1.2.0",
            "_view_name": "StyleView",
            "description_width": ""
          }
        },
        "87fb1101c28442b49961e1275d1cd381": {
          "model_module": "@jupyter-widgets/base",
          "model_module_version": "1.2.0",
          "model_name": "LayoutModel",
          "state": {
            "_model_module": "@jupyter-widgets/base",
            "_model_module_version": "1.2.0",
            "_model_name": "LayoutModel",
            "_view_count": null,
            "_view_module": "@jupyter-widgets/base",
            "_view_module_version": "1.2.0",
            "_view_name": "LayoutView",
            "align_content": null,
            "align_items": null,
            "align_self": null,
            "border": null,
            "bottom": null,
            "display": null,
            "flex": null,
            "flex_flow": null,
            "grid_area": null,
            "grid_auto_columns": null,
            "grid_auto_flow": null,
            "grid_auto_rows": null,
            "grid_column": null,
            "grid_gap": null,
            "grid_row": null,
            "grid_template_areas": null,
            "grid_template_columns": null,
            "grid_template_rows": null,
            "height": null,
            "justify_content": null,
            "justify_items": null,
            "left": null,
            "margin": null,
            "max_height": null,
            "max_width": null,
            "min_height": null,
            "min_width": null,
            "object_fit": null,
            "object_position": null,
            "order": null,
            "overflow": null,
            "overflow_x": null,
            "overflow_y": null,
            "padding": null,
            "right": null,
            "top": null,
            "visibility": null,
            "width": null
          }
        },
        "88fc6f1ab9cb4cd6b9e95de64f1f1ef5": {
          "model_module": "@jupyter-widgets/base",
          "model_module_version": "1.2.0",
          "model_name": "LayoutModel",
          "state": {
            "_model_module": "@jupyter-widgets/base",
            "_model_module_version": "1.2.0",
            "_model_name": "LayoutModel",
            "_view_count": null,
            "_view_module": "@jupyter-widgets/base",
            "_view_module_version": "1.2.0",
            "_view_name": "LayoutView",
            "align_content": null,
            "align_items": null,
            "align_self": null,
            "border": null,
            "bottom": null,
            "display": null,
            "flex": null,
            "flex_flow": null,
            "grid_area": null,
            "grid_auto_columns": null,
            "grid_auto_flow": null,
            "grid_auto_rows": null,
            "grid_column": null,
            "grid_gap": null,
            "grid_row": null,
            "grid_template_areas": null,
            "grid_template_columns": null,
            "grid_template_rows": null,
            "height": null,
            "justify_content": null,
            "justify_items": null,
            "left": null,
            "margin": null,
            "max_height": null,
            "max_width": null,
            "min_height": null,
            "min_width": null,
            "object_fit": null,
            "object_position": null,
            "order": null,
            "overflow": null,
            "overflow_x": null,
            "overflow_y": null,
            "padding": null,
            "right": null,
            "top": null,
            "visibility": null,
            "width": "200px"
          }
        },
        "8a8aff2328a14e0b90654d6560e0d810": {
          "model_module": "@jupyter-widgets/base",
          "model_module_version": "1.2.0",
          "model_name": "LayoutModel",
          "state": {
            "_model_module": "@jupyter-widgets/base",
            "_model_module_version": "1.2.0",
            "_model_name": "LayoutModel",
            "_view_count": null,
            "_view_module": "@jupyter-widgets/base",
            "_view_module_version": "1.2.0",
            "_view_name": "LayoutView",
            "align_content": null,
            "align_items": null,
            "align_self": null,
            "border": null,
            "bottom": null,
            "display": null,
            "flex": null,
            "flex_flow": null,
            "grid_area": null,
            "grid_auto_columns": null,
            "grid_auto_flow": null,
            "grid_auto_rows": null,
            "grid_column": null,
            "grid_gap": null,
            "grid_row": null,
            "grid_template_areas": null,
            "grid_template_columns": null,
            "grid_template_rows": null,
            "height": null,
            "justify_content": null,
            "justify_items": null,
            "left": null,
            "margin": null,
            "max_height": null,
            "max_width": null,
            "min_height": null,
            "min_width": null,
            "object_fit": null,
            "object_position": null,
            "order": null,
            "overflow": null,
            "overflow_x": null,
            "overflow_y": null,
            "padding": null,
            "right": null,
            "top": null,
            "visibility": null,
            "width": "35px"
          }
        },
        "8e2e28f977da46d9ab590f5e6d6f9e55": {
          "model_module": "@jupyter-widgets/controls",
          "model_module_version": "1.5.0",
          "model_name": "ButtonModel",
          "state": {
            "_dom_classes": [],
            "_model_module": "@jupyter-widgets/controls",
            "_model_module_version": "1.5.0",
            "_model_name": "ButtonModel",
            "_view_count": null,
            "_view_module": "@jupyter-widgets/controls",
            "_view_module_version": "1.5.0",
            "_view_name": "ButtonView",
            "button_style": "",
            "description": "",
            "disabled": false,
            "icon": "arrow-left",
            "layout": "IPY_MODEL_8a8aff2328a14e0b90654d6560e0d810",
            "style": "IPY_MODEL_f13ccede8669414486d7e0a187c7aab4",
            "tooltip": ""
          }
        },
        "9498c434567d4e47ace7e8523898c37b": {
          "model_module": "@jupyter-widgets/controls",
          "model_module_version": "1.5.0",
          "model_name": "ButtonModel",
          "state": {
            "_dom_classes": [],
            "_model_module": "@jupyter-widgets/controls",
            "_model_module_version": "1.5.0",
            "_model_name": "ButtonModel",
            "_view_count": null,
            "_view_module": "@jupyter-widgets/controls",
            "_view_module_version": "1.5.0",
            "_view_name": "ButtonView",
            "button_style": "",
            "description": "Train",
            "disabled": false,
            "icon": "refresh",
            "layout": "IPY_MODEL_01136e6873d04ceb9d2b92f54f905a9e",
            "style": "IPY_MODEL_667cd9e77ad94997966cea7633f6b794",
            "tooltip": ""
          }
        },
        "a90996f6717c447aa459fb0a04f19457": {
          "model_module": "@jupyter-widgets/controls",
          "model_module_version": "1.5.0",
          "model_name": "ButtonStyleModel",
          "state": {
            "_model_module": "@jupyter-widgets/controls",
            "_model_module_version": "1.5.0",
            "_model_name": "ButtonStyleModel",
            "_view_count": null,
            "_view_module": "@jupyter-widgets/base",
            "_view_module_version": "1.2.0",
            "_view_name": "StyleView",
            "button_color": null,
            "font_weight": ""
          }
        },
        "aea2024ccc4a4da3a2e727925bb85858": {
          "model_module": "@jupyter-widgets/controls",
          "model_module_version": "1.5.0",
          "model_name": "DescriptionStyleModel",
          "state": {
            "_model_module": "@jupyter-widgets/controls",
            "_model_module_version": "1.5.0",
            "_model_name": "DescriptionStyleModel",
            "_view_count": null,
            "_view_module": "@jupyter-widgets/base",
            "_view_module_version": "1.2.0",
            "_view_name": "StyleView",
            "description_width": ""
          }
        },
        "af1a0af1a9a4481ab72df2f932d46fa0": {
          "model_module": "@jupyter-widgets/base",
          "model_module_version": "1.2.0",
          "model_name": "LayoutModel",
          "state": {
            "_model_module": "@jupyter-widgets/base",
            "_model_module_version": "1.2.0",
            "_model_name": "LayoutModel",
            "_view_count": null,
            "_view_module": "@jupyter-widgets/base",
            "_view_module_version": "1.2.0",
            "_view_name": "LayoutView",
            "align_content": null,
            "align_items": null,
            "align_self": null,
            "border": null,
            "bottom": null,
            "display": null,
            "flex": null,
            "flex_flow": null,
            "grid_area": null,
            "grid_auto_columns": null,
            "grid_auto_flow": null,
            "grid_auto_rows": null,
            "grid_column": null,
            "grid_gap": null,
            "grid_row": null,
            "grid_template_areas": null,
            "grid_template_columns": null,
            "grid_template_rows": null,
            "height": null,
            "justify_content": null,
            "justify_items": null,
            "left": null,
            "margin": null,
            "max_height": null,
            "max_width": null,
            "min_height": null,
            "min_width": null,
            "object_fit": null,
            "object_position": null,
            "order": null,
            "overflow": null,
            "overflow_x": null,
            "overflow_y": null,
            "padding": null,
            "right": null,
            "top": null,
            "visibility": null,
            "width": "35px"
          }
        },
        "b156b90a40b941c1a732df69c7169c5c": {
          "model_module": "@jupyter-widgets/controls",
          "model_module_version": "1.5.0",
          "model_name": "ButtonStyleModel",
          "state": {
            "_model_module": "@jupyter-widgets/controls",
            "_model_module_version": "1.5.0",
            "_model_name": "ButtonStyleModel",
            "_view_count": null,
            "_view_module": "@jupyter-widgets/base",
            "_view_module_version": "1.2.0",
            "_view_name": "StyleView",
            "button_color": null,
            "font_weight": ""
          }
        },
        "b83bd1499557466e98c83ac74fbc1f2e": {
          "model_module": "@jupyter-widgets/base",
          "model_module_version": "1.2.0",
          "model_name": "LayoutModel",
          "state": {
            "_model_module": "@jupyter-widgets/base",
            "_model_module_version": "1.2.0",
            "_model_name": "LayoutModel",
            "_view_count": null,
            "_view_module": "@jupyter-widgets/base",
            "_view_module_version": "1.2.0",
            "_view_name": "LayoutView",
            "align_content": null,
            "align_items": null,
            "align_self": null,
            "border": null,
            "bottom": null,
            "display": null,
            "flex": null,
            "flex_flow": null,
            "grid_area": null,
            "grid_auto_columns": null,
            "grid_auto_flow": null,
            "grid_auto_rows": null,
            "grid_column": null,
            "grid_gap": null,
            "grid_row": null,
            "grid_template_areas": null,
            "grid_template_columns": null,
            "grid_template_rows": null,
            "height": null,
            "justify_content": null,
            "justify_items": null,
            "left": null,
            "margin": null,
            "max_height": null,
            "max_width": null,
            "min_height": null,
            "min_width": null,
            "object_fit": null,
            "object_position": null,
            "order": null,
            "overflow": null,
            "overflow_x": null,
            "overflow_y": null,
            "padding": null,
            "right": null,
            "top": null,
            "visibility": null,
            "width": null
          }
        },
        "be22f9175b2d4064b7ea2919d15063dc": {
          "model_module": "@jupyter-widgets/base",
          "model_module_version": "1.2.0",
          "model_name": "LayoutModel",
          "state": {
            "_model_module": "@jupyter-widgets/base",
            "_model_module_version": "1.2.0",
            "_model_name": "LayoutModel",
            "_view_count": null,
            "_view_module": "@jupyter-widgets/base",
            "_view_module_version": "1.2.0",
            "_view_name": "LayoutView",
            "align_content": null,
            "align_items": null,
            "align_self": null,
            "border": null,
            "bottom": null,
            "display": null,
            "flex": null,
            "flex_flow": null,
            "grid_area": null,
            "grid_auto_columns": null,
            "grid_auto_flow": null,
            "grid_auto_rows": null,
            "grid_column": null,
            "grid_gap": null,
            "grid_row": null,
            "grid_template_areas": null,
            "grid_template_columns": null,
            "grid_template_rows": null,
            "height": null,
            "justify_content": null,
            "justify_items": null,
            "left": null,
            "margin": null,
            "max_height": null,
            "max_width": null,
            "min_height": null,
            "min_width": null,
            "object_fit": null,
            "object_position": null,
            "order": null,
            "overflow": null,
            "overflow_x": null,
            "overflow_y": null,
            "padding": null,
            "right": null,
            "top": null,
            "visibility": null,
            "width": null
          }
        },
        "c98acbbec9c543328b203163fd42e2a6": {
          "model_module": "@jupyter-widgets/controls",
          "model_module_version": "1.5.0",
          "model_name": "ButtonModel",
          "state": {
            "_dom_classes": [],
            "_model_module": "@jupyter-widgets/controls",
            "_model_module_version": "1.5.0",
            "_model_name": "ButtonModel",
            "_view_count": null,
            "_view_module": "@jupyter-widgets/controls",
            "_view_module_version": "1.5.0",
            "_view_name": "ButtonView",
            "button_style": "",
            "description": "",
            "disabled": false,
            "icon": "plus",
            "layout": "IPY_MODEL_2222bfdf561042b8bc7b52e5156287ed",
            "style": "IPY_MODEL_a90996f6717c447aa459fb0a04f19457",
            "tooltip": ""
          }
        },
        "d24dfb71853242b697b8925b2af849ff": {
          "model_module": "@jupyter-widgets/controls",
          "model_module_version": "1.5.0",
          "model_name": "LabelModel",
          "state": {
            "_dom_classes": [],
            "_model_module": "@jupyter-widgets/controls",
            "_model_module_version": "1.5.0",
            "_model_name": "LabelModel",
            "_view_count": null,
            "_view_module": "@jupyter-widgets/controls",
            "_view_module_version": "1.5.0",
            "_view_name": "LabelView",
            "description": "",
            "description_tooltip": null,
            "layout": "IPY_MODEL_4cca8d9c6f6c427f9eba430a41ca7681",
            "placeholder": "​",
            "style": "IPY_MODEL_eeb83f564f33415488977757e0579faf",
            "value": "9 / 100"
          }
        },
        "dd060bbf9fac4586a727300908027b68": {
          "model_module": "@jupyter-widgets/base",
          "model_module_version": "1.2.0",
          "model_name": "LayoutModel",
          "state": {
            "_model_module": "@jupyter-widgets/base",
            "_model_module_version": "1.2.0",
            "_model_name": "LayoutModel",
            "_view_count": null,
            "_view_module": "@jupyter-widgets/base",
            "_view_module_version": "1.2.0",
            "_view_name": "LayoutView",
            "align_content": null,
            "align_items": null,
            "align_self": null,
            "border": null,
            "bottom": null,
            "display": null,
            "flex": null,
            "flex_flow": null,
            "grid_area": null,
            "grid_auto_columns": null,
            "grid_auto_flow": null,
            "grid_auto_rows": null,
            "grid_column": null,
            "grid_gap": null,
            "grid_row": null,
            "grid_template_areas": null,
            "grid_template_columns": null,
            "grid_template_rows": null,
            "height": null,
            "justify_content": null,
            "justify_items": null,
            "left": null,
            "margin": null,
            "max_height": null,
            "max_width": null,
            "min_height": null,
            "min_width": null,
            "object_fit": null,
            "object_position": null,
            "order": null,
            "overflow": null,
            "overflow_x": null,
            "overflow_y": null,
            "padding": null,
            "right": null,
            "top": null,
            "visibility": null,
            "width": null
          }
        },
        "ec55278604864ce4be8ae94125db8a76": {
          "model_module": "@jupyter-widgets/controls",
          "model_module_version": "1.5.0",
          "model_name": "HBoxModel",
          "state": {
            "_dom_classes": [],
            "_model_module": "@jupyter-widgets/controls",
            "_model_module_version": "1.5.0",
            "_model_name": "HBoxModel",
            "_view_count": null,
            "_view_module": "@jupyter-widgets/controls",
            "_view_module_version": "1.5.0",
            "_view_name": "HBoxView",
            "box_style": "",
            "children": [
              "IPY_MODEL_2e35f5cf57bd47dabf80612e9711a39c",
              "IPY_MODEL_eeb765ee43a042f093a9a5e5a138716d",
              "IPY_MODEL_c98acbbec9c543328b203163fd42e2a6"
            ],
            "layout": "IPY_MODEL_dd060bbf9fac4586a727300908027b68"
          }
        },
        "ee04b0f850614f848b393c61cbf4766d": {
          "model_module": "@jupyter-widgets/controls",
          "model_module_version": "1.5.0",
          "model_name": "ButtonModel",
          "state": {
            "_dom_classes": [],
            "_model_module": "@jupyter-widgets/controls",
            "_model_module_version": "1.5.0",
            "_model_name": "ButtonModel",
            "_view_count": null,
            "_view_module": "@jupyter-widgets/controls",
            "_view_module_version": "1.5.0",
            "_view_name": "ButtonView",
            "button_style": "",
            "description": "Predict",
            "disabled": false,
            "icon": "eye",
            "layout": "IPY_MODEL_26ecf671ce9b400cbb50a0a0429a8173",
            "style": "IPY_MODEL_595627d51f934df48b71239d42deac6e",
            "tooltip": ""
          }
        },
        "eeb765ee43a042f093a9a5e5a138716d": {
          "model_module": "@jupyter-widgets/controls",
          "model_module_version": "1.5.0",
          "model_name": "TextModel",
          "state": {
            "_dom_classes": [],
            "_model_module": "@jupyter-widgets/controls",
            "_model_module_version": "1.5.0",
            "_model_name": "TextModel",
            "_view_count": null,
            "_view_module": "@jupyter-widgets/controls",
            "_view_module_version": "1.5.0",
            "_view_name": "TextView",
            "continuous_update": true,
            "description": "",
            "description_tooltip": null,
            "disabled": false,
            "layout": "IPY_MODEL_88fc6f1ab9cb4cd6b9e95de64f1f1ef5",
            "placeholder": "​",
            "style": "IPY_MODEL_64cd0cb8260149b7b3a4460c29186ad3",
            "value": ""
          }
        },
        "eeb83f564f33415488977757e0579faf": {
          "model_module": "@jupyter-widgets/controls",
          "model_module_version": "1.5.0",
          "model_name": "DescriptionStyleModel",
          "state": {
            "_model_module": "@jupyter-widgets/controls",
            "_model_module_version": "1.5.0",
            "_model_name": "DescriptionStyleModel",
            "_view_count": null,
            "_view_module": "@jupyter-widgets/base",
            "_view_module_version": "1.2.0",
            "_view_name": "StyleView",
            "description_width": ""
          }
        },
        "f13ccede8669414486d7e0a187c7aab4": {
          "model_module": "@jupyter-widgets/controls",
          "model_module_version": "1.5.0",
          "model_name": "ButtonStyleModel",
          "state": {
            "_model_module": "@jupyter-widgets/controls",
            "_model_module_version": "1.5.0",
            "_model_name": "ButtonStyleModel",
            "_view_count": null,
            "_view_module": "@jupyter-widgets/base",
            "_view_module_version": "1.2.0",
            "_view_name": "StyleView",
            "button_color": null,
            "font_weight": ""
          }
        },
        "f82bb449e91947b4a350f7937451d52a": {
          "model_module": "@jupyter-widgets/controls",
          "model_module_version": "1.5.0",
          "model_name": "LabelModel",
          "state": {
            "_dom_classes": [],
            "_model_module": "@jupyter-widgets/controls",
            "_model_module_version": "1.5.0",
            "_model_name": "LabelModel",
            "_view_count": null,
            "_view_module": "@jupyter-widgets/controls",
            "_view_module_version": "1.5.0",
            "_view_name": "LabelView",
            "description": "",
            "description_tooltip": null,
            "layout": "IPY_MODEL_601d5e0a05cf4ea4b076f1616b8420ee",
            "placeholder": "​",
            "style": "IPY_MODEL_aea2024ccc4a4da3a2e727925bb85858",
            "value": "2021-07-03T06-33-38-frame_0003.jpeg (not annotated)"
          }
        }
      }
    }
  },
  "nbformat": 4,
  "nbformat_minor": 0
}
