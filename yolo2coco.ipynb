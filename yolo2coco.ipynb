{
  "cells": [
    {
      "cell_type": "markdown",
      "metadata": {
        "id": "Cxi8K9mXwl5t"
      },
      "source": [
        "# Convert Yolo V5 TXT Files to VOC XML\n",
        "Use this notebook to try out importing, analyzing, and exporting datasets of image annotations. "
      ]
    },
    {
      "cell_type": "code",
      "execution_count": 1,
      "metadata": {},
      "outputs": [],
      "source": [
        "!pip install pylabel "
      ]
    },
    {
      "cell_type": "code",
      "execution_count": 1,
      "metadata": {
        "id": "AYwWkeF4z1Sc"
      },
      "outputs": [],
      "source": [
        "from pylabel import importer"
      ]
    },
    {
      "cell_type": "markdown",
      "metadata": {},
      "source": [
        "## Import Yolo annotations \n",
        "First we will import annotations stored in Yolo v5 format. "
      ]
    },
    {
      "cell_type": "code",
      "execution_count": 2,
      "metadata": {},
      "outputs": [
        {
          "data": {
            "text/html": [
              "<div>\n",
              "<style scoped>\n",
              "    .dataframe tbody tr th:only-of-type {\n",
              "        vertical-align: middle;\n",
              "    }\n",
              "\n",
              "    .dataframe tbody tr th {\n",
              "        vertical-align: top;\n",
              "    }\n",
              "\n",
              "    .dataframe thead th {\n",
              "        text-align: right;\n",
              "    }\n",
              "</style>\n",
              "<table border=\"1\" class=\"dataframe\">\n",
              "  <thead>\n",
              "    <tr style=\"text-align: right;\">\n",
              "      <th></th>\n",
              "      <th>id</th>\n",
              "      <th>img_folder</th>\n",
              "      <th>img_filename</th>\n",
              "      <th>img_path</th>\n",
              "      <th>img_id</th>\n",
              "      <th>img_width</th>\n",
              "      <th>img_height</th>\n",
              "      <th>img_depth</th>\n",
              "      <th>ann_segmented</th>\n",
              "      <th>ann_bbox_xmin</th>\n",
              "      <th>...</th>\n",
              "      <th>ann_area</th>\n",
              "      <th>ann_segmentation</th>\n",
              "      <th>ann_iscrowd</th>\n",
              "      <th>ann_pose</th>\n",
              "      <th>ann_truncated</th>\n",
              "      <th>ann_difficult</th>\n",
              "      <th>cat_id</th>\n",
              "      <th>cat_name</th>\n",
              "      <th>cat_supercategory</th>\n",
              "      <th>split</th>\n",
              "    </tr>\n",
              "  </thead>\n",
              "  <tbody>\n",
              "    <tr>\n",
              "      <th>0</th>\n",
              "      <td>0</td>\n",
              "      <td>../images/</td>\n",
              "      <td>2011341_2.jpeg</td>\n",
              "      <td>NaN</td>\n",
              "      <td>0</td>\n",
              "      <td>329</td>\n",
              "      <td>329</td>\n",
              "      <td>NaN</td>\n",
              "      <td>NaN</td>\n",
              "      <td>101.999870</td>\n",
              "      <td>...</td>\n",
              "      <td>10368.023154</td>\n",
              "      <td>NaN</td>\n",
              "      <td>NaN</td>\n",
              "      <td>NaN</td>\n",
              "      <td>NaN</td>\n",
              "      <td>NaN</td>\n",
              "      <td>3</td>\n",
              "      <td>deer</td>\n",
              "      <td>NaN</td>\n",
              "      <td>NaN</td>\n",
              "    </tr>\n",
              "    <tr>\n",
              "      <th>1</th>\n",
              "      <td>1</td>\n",
              "      <td>../images/</td>\n",
              "      <td>7985836_1.jpeg</td>\n",
              "      <td>NaN</td>\n",
              "      <td>1</td>\n",
              "      <td>329</td>\n",
              "      <td>329</td>\n",
              "      <td>NaN</td>\n",
              "      <td>NaN</td>\n",
              "      <td>22.999897</td>\n",
              "      <td>...</td>\n",
              "      <td>5858.988229</td>\n",
              "      <td>NaN</td>\n",
              "      <td>NaN</td>\n",
              "      <td>NaN</td>\n",
              "      <td>NaN</td>\n",
              "      <td>NaN</td>\n",
              "      <td>5</td>\n",
              "      <td>foxgray</td>\n",
              "      <td>NaN</td>\n",
              "      <td>NaN</td>\n",
              "    </tr>\n",
              "    <tr>\n",
              "      <th>2</th>\n",
              "      <td>2</td>\n",
              "      <td>../images/</td>\n",
              "      <td>3966713_1.jpeg</td>\n",
              "      <td>NaN</td>\n",
              "      <td>2</td>\n",
              "      <td>329</td>\n",
              "      <td>329</td>\n",
              "      <td>NaN</td>\n",
              "      <td>NaN</td>\n",
              "      <td>145.554864</td>\n",
              "      <td>...</td>\n",
              "      <td>384.333099</td>\n",
              "      <td>NaN</td>\n",
              "      <td>NaN</td>\n",
              "      <td>NaN</td>\n",
              "      <td>NaN</td>\n",
              "      <td>NaN</td>\n",
              "      <td>1</td>\n",
              "      <td>cottontail</td>\n",
              "      <td>NaN</td>\n",
              "      <td>NaN</td>\n",
              "    </tr>\n",
              "    <tr>\n",
              "      <th>3</th>\n",
              "      <td>3</td>\n",
              "      <td>../images/</td>\n",
              "      <td>2979383_1.jpeg</td>\n",
              "      <td>NaN</td>\n",
              "      <td>3</td>\n",
              "      <td>329</td>\n",
              "      <td>329</td>\n",
              "      <td>NaN</td>\n",
              "      <td>NaN</td>\n",
              "      <td>112.260228</td>\n",
              "      <td>...</td>\n",
              "      <td>248.934647</td>\n",
              "      <td>NaN</td>\n",
              "      <td>NaN</td>\n",
              "      <td>NaN</td>\n",
              "      <td>NaN</td>\n",
              "      <td>NaN</td>\n",
              "      <td>9</td>\n",
              "      <td>snowshoehare</td>\n",
              "      <td>NaN</td>\n",
              "      <td>NaN</td>\n",
              "    </tr>\n",
              "    <tr>\n",
              "      <th>4</th>\n",
              "      <td>4</td>\n",
              "      <td>../images/</td>\n",
              "      <td>2020781_2.jpeg</td>\n",
              "      <td>NaN</td>\n",
              "      <td>4</td>\n",
              "      <td>329</td>\n",
              "      <td>329</td>\n",
              "      <td>NaN</td>\n",
              "      <td>NaN</td>\n",
              "      <td>147.474908</td>\n",
              "      <td>...</td>\n",
              "      <td>3541.802023</td>\n",
              "      <td>NaN</td>\n",
              "      <td>NaN</td>\n",
              "      <td>NaN</td>\n",
              "      <td>NaN</td>\n",
              "      <td>NaN</td>\n",
              "      <td>6</td>\n",
              "      <td>foxred</td>\n",
              "      <td>NaN</td>\n",
              "      <td>NaN</td>\n",
              "    </tr>\n",
              "  </tbody>\n",
              "</table>\n",
              "<p>5 rows × 25 columns</p>\n",
              "</div>"
            ],
            "text/plain": [
              "   id  img_folder    img_filename img_path  img_id  img_width  img_height  \\\n",
              "0   0  ../images/  2011341_2.jpeg      NaN       0        329         329   \n",
              "1   1  ../images/  7985836_1.jpeg      NaN       1        329         329   \n",
              "2   2  ../images/  3966713_1.jpeg      NaN       2        329         329   \n",
              "3   3  ../images/  2979383_1.jpeg      NaN       3        329         329   \n",
              "4   4  ../images/  2020781_2.jpeg      NaN       4        329         329   \n",
              "\n",
              "  img_depth ann_segmented  ann_bbox_xmin  ...      ann_area  ann_segmentation  \\\n",
              "0       NaN           NaN     101.999870  ...  10368.023154               NaN   \n",
              "1       NaN           NaN      22.999897  ...   5858.988229               NaN   \n",
              "2       NaN           NaN     145.554864  ...    384.333099               NaN   \n",
              "3       NaN           NaN     112.260228  ...    248.934647               NaN   \n",
              "4       NaN           NaN     147.474908  ...   3541.802023               NaN   \n",
              "\n",
              "   ann_iscrowd  ann_pose  ann_truncated  ann_difficult cat_id      cat_name  \\\n",
              "0          NaN       NaN            NaN            NaN      3          deer   \n",
              "1          NaN       NaN            NaN            NaN      5       foxgray   \n",
              "2          NaN       NaN            NaN            NaN      1    cottontail   \n",
              "3          NaN       NaN            NaN            NaN      9  snowshoehare   \n",
              "4          NaN       NaN            NaN            NaN      6        foxred   \n",
              "\n",
              "  cat_supercategory split  \n",
              "0               NaN   NaN  \n",
              "1               NaN   NaN  \n",
              "2               NaN   NaN  \n",
              "3               NaN   NaN  \n",
              "4               NaN   NaN  \n",
              "\n",
              "[5 rows x 25 columns]"
            ]
          },
          "execution_count": 2,
          "metadata": {},
          "output_type": "execute_result"
        }
      ],
      "source": [
        "path_to_annotations = \"/Users/alex/Google Drive/pylabel/datasets/wildlife/yolo_splits/val/labels/\"\n",
        "\n",
        "#Identify the path to get from the annotations to the images \n",
        "path_to_images = \"../images/\"\n",
        "\n",
        "#Import the dataset into the pylable schema \n",
        "yoloclasses =[\"bear\",\"cottontail\",\"coyote\",\"deer\",\"elk\",\"foxgray\",\"foxred\",\"opossum\",\"racoon\",\"snowshoehare\",\"turkey\"]\n",
        "dataset = importer.ImportYoloV5(path=path_to_annotations, path_to_images=path_to_images, cat_names=yoloclasses,\n",
        "    img_ext=\"jpeg\", name=\"wildlife\", img_height=329, img_width=329)\n",
        "\n",
        "dataset.df.head(5)\n",
        "#dataset.df.loc[:, dataset.df.columns.str.startswith('ann')]"
      ]
    },
    {
      "cell_type": "markdown",
      "metadata": {},
      "source": [
        "## Analyze annotations\n",
        "Pylabel can calculate basic summary statisticts about the dataset such as the number of files and the classes. \n",
        "The dataset is stored as a pandas frame so the developer can do additional exploratory analysis on the dataset. "
      ]
    },
    {
      "cell_type": "code",
      "execution_count": 4,
      "metadata": {
        "colab": {
          "base_uri": "https://localhost:8080/"
        },
        "id": "5R1rOJVL420b",
        "outputId": "ae94525b-c6d5-4a4f-d56d-7f1bd29a7411"
      },
      "outputs": [],
      "source": [
        "# print(f\"Number of images: {dataset.analyze.num_images}\")\n",
        "# print(f\"Number of classes: {dataset.analyze.num_classes}\")\n",
        "# print(f\"Classes:{dataset.analyze.classes}\")\n",
        "# print(f\"Class counts:\\n{dataset.analyze.class_counts}\")"
      ]
    },
    {
      "cell_type": "markdown",
      "metadata": {},
      "source": [
        "## Visualize Annotations \n",
        "You can render the bounding boxes for your image to inspect them and confirm that they imported correctly.  "
      ]
    },
    {
      "cell_type": "code",
      "execution_count": 5,
      "metadata": {},
      "outputs": [],
      "source": [
        "# from IPython.display import Image, display\n",
        "# display(dataset.visualize.ShowBoundingBoxes(dataset, 100))\n",
        "# display(dataset.visualize.ShowBoundingBoxes(dataset, \"2020781_2.jpeg\"))"
      ]
    },
    {
      "cell_type": "markdown",
      "metadata": {},
      "source": [
        "# Export to Coco Json\n",
        "The PyLabel exporter will export all of the annotations in the dataframe to the desired target format.\n",
        "All annotations will be stored in a single json file. "
      ]
    },
    {
      "cell_type": "code",
      "execution_count": 7,
      "metadata": {},
      "outputs": [
        {
          "name": "stdout",
          "output_type": "stream",
          "text": [
            "Saved to: /Users/alex/Google Drive/pylabel/datasets/wildlife/yolo_splits/val/labels/wildlife.json\n"
          ]
        }
      ],
      "source": [
        "dataset.export.ExportToCoco(dataset)"
      ]
    }
  ],
  "metadata": {
    "colab": {
      "collapsed_sections": [],
      "name": "import2.ipynb",
      "provenance": []
    },
    "interpreter": {
      "hash": "de5e368ab5494158da905fb8b1c2e4fef8844fbfaace7cceca0beab983df3a80"
    },
    "kernelspec": {
      "display_name": "Python 3.8.5 64-bit ('penv': venv)",
      "name": "python3"
    },
    "language_info": {
      "codemirror_mode": {
        "name": "ipython",
        "version": 3
      },
      "file_extension": ".py",
      "mimetype": "text/x-python",
      "name": "python",
      "nbconvert_exporter": "python",
      "pygments_lexer": "ipython3",
      "version": "3.8.5"
    }
  },
  "nbformat": 4,
  "nbformat_minor": 2
}
