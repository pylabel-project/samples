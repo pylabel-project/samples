{
  "nbformat": 4,
  "nbformat_minor": 0,
  "metadata": {
    "accelerator": "GPU",
    "colab": {
      "name": "pylabeler.ipynb",
      "provenance": [],
      "collapsed_sections": []
    },
    "interpreter": {
      "hash": "de5e368ab5494158da905fb8b1c2e4fef8844fbfaace7cceca0beab983df3a80"
    },
    "kernelspec": {
      "display_name": "Python 3.8.5 64-bit ('penv': venv)",
      "name": "python3"
    },
    "language_info": {
      "codemirror_mode": {
        "name": "ipython",
        "version": 3
      },
      "file_extension": ".py",
      "mimetype": "text/x-python",
      "name": "python",
      "nbconvert_exporter": "python",
      "pygments_lexer": "ipython3",
      "version": "3.8.5"
    }
  },
  "cells": [
    {
      "cell_type": "markdown",
      "metadata": {
        "id": "5UDUKQvj-I_j"
      },
      "source": [
        "<a href=\"https://colab.research.google.com/github//pylabel-project/samples/blob/main/yolov5_training.ipynb\" target=\"_blank\"><img src=\"https://colab.research.google.com/assets/colab-badge.svg\" alt=\"Open In Colab\"/></a> "
      ]
    },
    {
      "cell_type": "markdown",
      "metadata": {
        "id": "Cxi8K9mXwl5t"
      },
      "source": [
        "## Simple YoloV5 Training Example\n",
        "This notebook demonstrates how to use your own labeled dataset to train a YoloV5 model and then use it to make predictions. For this demonstration we will download 100 images from the <a href=\"https://github.com/pylabel-project/datasets_models#squirrels-and-nuts\">squirrels and nuts dataset.</a> (Which I created from images of squirrels in my yard.)\n"
      ]
    },
    {
      "cell_type": "code",
      "metadata": {
        "id": "_NcGRjmC-I_m"
      },
      "source": [
        "import logging\n",
        "logging.getLogger().setLevel(logging.CRITICAL)\n",
        "import os \n",
        "import zipfile"
      ],
      "execution_count": 1,
      "outputs": []
    },
    {
      "cell_type": "markdown",
      "metadata": {
        "id": "dkFFxJFn-I_m"
      },
      "source": [
        "## Download Images and Labels"
      ]
    },
    {
      "cell_type": "code",
      "metadata": {
        "colab": {
          "base_uri": "https://localhost:8080/"
        },
        "id": "dvT4Ykxb-I_n",
        "outputId": "ddf2e748-2e2f-40f2-a3ab-ae882687a506"
      },
      "source": [
        "os.makedirs(\"data/\", exist_ok=True)\n",
        "!wget \"https://github.com/pylabel-project/datasets_models/blob/main/squirrelsandnuts/squirrelsandnuts_train.zip?raw=true\" -O data/squirrelsandnuts_train.zip\n",
        "with zipfile.ZipFile(\"data/squirrelsandnuts_train.zip\", 'r') as zip_ref:\n",
        "    zip_ref.extractall(\"data/\")"
      ],
      "execution_count": 2,
      "outputs": [
        {
          "output_type": "stream",
          "name": "stdout",
          "text": [
            "--2021-12-07 04:42:36--  https://github.com/pylabel-project/datasets_models/blob/main/squirrelsandnuts/squirrelsandnuts_train.zip?raw=true\n",
            "Resolving github.com (github.com)... 140.82.121.3\n",
            "Connecting to github.com (github.com)|140.82.121.3|:443... connected.\n",
            "HTTP request sent, awaiting response... 302 Found\n",
            "Location: https://github.com/pylabel-project/datasets_models/raw/main/squirrelsandnuts/squirrelsandnuts_train.zip [following]\n",
            "--2021-12-07 04:42:36--  https://github.com/pylabel-project/datasets_models/raw/main/squirrelsandnuts/squirrelsandnuts_train.zip\n",
            "Reusing existing connection to github.com:443.\n",
            "HTTP request sent, awaiting response... 302 Found\n",
            "Location: https://raw.githubusercontent.com/pylabel-project/datasets_models/main/squirrelsandnuts/squirrelsandnuts_train.zip [following]\n",
            "--2021-12-07 04:42:37--  https://raw.githubusercontent.com/pylabel-project/datasets_models/main/squirrelsandnuts/squirrelsandnuts_train.zip\n",
            "Resolving raw.githubusercontent.com (raw.githubusercontent.com)... 185.199.108.133, 185.199.111.133, 185.199.110.133, ...\n",
            "Connecting to raw.githubusercontent.com (raw.githubusercontent.com)|185.199.108.133|:443... connected.\n",
            "HTTP request sent, awaiting response... 200 OK\n",
            "Length: 10368708 (9.9M) [application/zip]\n",
            "Saving to: ‘data/squirrelsandnuts_train.zip’\n",
            "\n",
            "data/squirrelsandnu 100%[===================>]   9.89M  --.-KB/s    in 0.1s    \n",
            "\n",
            "2021-12-07 04:42:37 (96.5 MB/s) - ‘data/squirrelsandnuts_train.zip’ saved [10368708/10368708]\n",
            "\n"
          ]
        }
      ]
    },
    {
      "cell_type": "markdown",
      "metadata": {
        "id": "OO6wuzVuaXO3"
      },
      "source": [
        "Now you should have 100 images and annotation files in the folder data/squirrelsandnuts_train/. There is also a YAML file that you need to tell YOLO where to find the images and folders. View the Yaml file. Note that there are 2 classes: squirrels and nuts. "
      ]
    },
    {
      "cell_type": "code",
      "metadata": {
        "id": "i-PP611TbBRD",
        "outputId": "592f1f68-a411-4488-9657-5348b60be286",
        "colab": {
          "base_uri": "https://localhost:8080/"
        }
      },
      "source": [
        "!cat data/squirrelsandnuts_train/yolo_data.yaml"
      ],
      "execution_count": 3,
      "outputs": [
        {
          "output_type": "stream",
          "name": "stdout",
          "text": [
            "path: ../data/squirrelsandnuts_train/\n",
            "train: images/train  # train images (relative to 'path') 128 images\n",
            "val: images/train  # val images (relative to 'path') 128 images\n",
            "\n",
            "# Classes\n",
            "nc: 2  # number of classes\n",
            "names: [ 'Squirrel','Nut']  # class names"
          ]
        }
      ]
    },
    {
      "cell_type": "markdown",
      "metadata": {
        "id": "rlVIf5qj-I_o"
      },
      "source": [
        "# Install Yolo Dependencies\n",
        "This is known to work on Google Colab, it may or may not work in other environments. "
      ]
    },
    {
      "cell_type": "code",
      "metadata": {
        "colab": {
          "base_uri": "https://localhost:8080/"
        },
        "id": "1-EeN4ZX-I_o",
        "outputId": "79e8966c-8210-4d6f-cdd1-30eebe56e96a"
      },
      "source": [
        "!git clone https://github.com/ultralytics/yolov5  # clone\n",
        "%cd yolov5\n",
        "%pip install -qr requirements.txt  # install\n",
        "import torch\n",
        "from yolov5 import utils"
      ],
      "execution_count": 4,
      "outputs": [
        {
          "output_type": "stream",
          "name": "stdout",
          "text": [
            "fatal: destination path 'yolov5' already exists and is not an empty directory.\n",
            "/content/yolov5\n"
          ]
        }
      ]
    },
    {
      "cell_type": "markdown",
      "metadata": {
        "id": "kCL9U0lHOnuB"
      },
      "source": [
        "Now you are ready to train the model. Below is the standard code that is used for training which I customized for this particulat dataset. Some of the key parameters:   \n",
        "- **img** This should be the longest dimension of your images in pixels. The squirrel photos are 960 pixels wide.\n",
        "- **data** The path to the yaml file, from the yolov5 directory. \n",
        "- **weights** Start from the standard yolo pretraining model. \n",
        "- **epochs** It is set to 10 so it goes faster while you are still testing things. I would suggest doing at least 100 epochs for your actual model training. "
      ]
    },
    {
      "cell_type": "code",
      "metadata": {
        "colab": {
          "base_uri": "https://localhost:8080/"
        },
        "id": "_ulnXfSqU9A5",
        "outputId": "760da9fd-e364-4599-d9ed-c9fbe6ddbb1a"
      },
      "source": [
        "!python train.py --img 960 --batch 16 --epochs 10 --data ../data/squirrelsandnuts_train/yolo_data.yaml --weights yolov5s.pt --cache --exist-ok\n"
      ],
      "execution_count": 5,
      "outputs": [
        {
          "output_type": "stream",
          "name": "stdout",
          "text": [
            "\u001b[34m\u001b[1mtrain: \u001b[0mweights=yolov5s.pt, cfg=, data=../data/squirrelsandnuts_train/yolo_data.yaml, hyp=data/hyps/hyp.scratch.yaml, epochs=10, batch_size=16, imgsz=960, rect=False, resume=False, nosave=False, noval=False, noautoanchor=False, evolve=None, bucket=, cache=ram, image_weights=False, device=, multi_scale=False, single_cls=False, adam=False, sync_bn=False, workers=8, project=runs/train, name=exp, exist_ok=True, quad=False, linear_lr=False, label_smoothing=0.0, patience=100, freeze=0, save_period=-1, local_rank=-1, entity=None, upload_dataset=False, bbox_interval=-1, artifact_alias=latest\n",
            "\u001b[34m\u001b[1mgithub: \u001b[0mup to date with https://github.com/ultralytics/yolov5 ✅\n",
            "YOLOv5 🚀 v6.0-124-g1075488 torch 1.10.0+cu111 CUDA:0 (Tesla K80, 11441MiB)\n",
            "\n",
            "\u001b[34m\u001b[1mhyperparameters: \u001b[0mlr0=0.01, lrf=0.1, momentum=0.937, weight_decay=0.0005, warmup_epochs=3.0, warmup_momentum=0.8, warmup_bias_lr=0.1, box=0.05, cls=0.5, cls_pw=1.0, obj=1.0, obj_pw=1.0, iou_t=0.2, anchor_t=4.0, fl_gamma=0.0, hsv_h=0.015, hsv_s=0.7, hsv_v=0.4, degrees=0.0, translate=0.1, scale=0.5, shear=0.0, perspective=0.0, flipud=0.0, fliplr=0.5, mosaic=1.0, mixup=0.0, copy_paste=0.0\n",
            "\u001b[34m\u001b[1mWeights & Biases: \u001b[0mrun 'pip install wandb' to automatically track and visualize YOLOv5 🚀 runs (RECOMMENDED)\n",
            "\u001b[34m\u001b[1mTensorBoard: \u001b[0mStart with 'tensorboard --logdir runs/train', view at http://localhost:6006/\n",
            "Overriding model.yaml nc=80 with nc=2\n",
            "\n",
            "                 from  n    params  module                                  arguments                     \n",
            "  0                -1  1      3520  models.common.Conv                      [3, 32, 6, 2, 2]              \n",
            "  1                -1  1     18560  models.common.Conv                      [32, 64, 3, 2]                \n",
            "  2                -1  1     18816  models.common.C3                        [64, 64, 1]                   \n",
            "  3                -1  1     73984  models.common.Conv                      [64, 128, 3, 2]               \n",
            "  4                -1  2    115712  models.common.C3                        [128, 128, 2]                 \n",
            "  5                -1  1    295424  models.common.Conv                      [128, 256, 3, 2]              \n",
            "  6                -1  3    625152  models.common.C3                        [256, 256, 3]                 \n",
            "  7                -1  1   1180672  models.common.Conv                      [256, 512, 3, 2]              \n",
            "  8                -1  1   1182720  models.common.C3                        [512, 512, 1]                 \n",
            "  9                -1  1    656896  models.common.SPPF                      [512, 512, 5]                 \n",
            " 10                -1  1    131584  models.common.Conv                      [512, 256, 1, 1]              \n",
            " 11                -1  1         0  torch.nn.modules.upsampling.Upsample    [None, 2, 'nearest']          \n",
            " 12           [-1, 6]  1         0  models.common.Concat                    [1]                           \n",
            " 13                -1  1    361984  models.common.C3                        [512, 256, 1, False]          \n",
            " 14                -1  1     33024  models.common.Conv                      [256, 128, 1, 1]              \n",
            " 15                -1  1         0  torch.nn.modules.upsampling.Upsample    [None, 2, 'nearest']          \n",
            " 16           [-1, 4]  1         0  models.common.Concat                    [1]                           \n",
            " 17                -1  1     90880  models.common.C3                        [256, 128, 1, False]          \n",
            " 18                -1  1    147712  models.common.Conv                      [128, 128, 3, 2]              \n",
            " 19          [-1, 14]  1         0  models.common.Concat                    [1]                           \n",
            " 20                -1  1    296448  models.common.C3                        [256, 256, 1, False]          \n",
            " 21                -1  1    590336  models.common.Conv                      [256, 256, 3, 2]              \n",
            " 22          [-1, 10]  1         0  models.common.Concat                    [1]                           \n",
            " 23                -1  1   1182720  models.common.C3                        [512, 512, 1, False]          \n",
            " 24      [17, 20, 23]  1     18879  models.yolo.Detect                      [2, [[10, 13, 16, 30, 33, 23], [30, 61, 62, 45, 59, 119], [116, 90, 156, 198, 373, 326]], [128, 256, 512]]\n",
            "Model Summary: 270 layers, 7025023 parameters, 7025023 gradients, 15.9 GFLOPs\n",
            "\n",
            "Transferred 343/349 items from yolov5s.pt\n",
            "Scaled weight_decay = 0.0005\n",
            "\u001b[34m\u001b[1moptimizer:\u001b[0m SGD with parameter groups 57 weight, 60 weight (no decay), 60 bias\n",
            "\u001b[34m\u001b[1malbumentations: \u001b[0mversion 1.0.3 required by YOLOv5, but version 0.1.12 is currently installed\n",
            "\u001b[34m\u001b[1mtrain: \u001b[0mScanning '../data/squirrelsandnuts_train/labels/train.cache' images and labels... 100 found, 0 missing, 0 empty, 0 corrupted: 100% 100/100 [00:00<?, ?it/s]\n",
            "\u001b[34m\u001b[1mtrain: \u001b[0mCaching images (0.2GB ram): 100% 100/100 [00:00<00:00, 123.33it/s]\n",
            "\u001b[34m\u001b[1mval: \u001b[0mScanning '../data/squirrelsandnuts_train/labels/train.cache' images and labels... 100 found, 0 missing, 0 empty, 0 corrupted: 100% 100/100 [00:00<?, ?it/s]\n",
            "\u001b[34m\u001b[1mval: \u001b[0mCaching images (0.2GB ram): 100% 100/100 [00:02<00:00, 41.96it/s]\n",
            "Plotting labels to runs/train/exp/labels.jpg... \n",
            "\n",
            "\u001b[34m\u001b[1mAutoAnchor: \u001b[0m5.02 anchors/target, 1.000 Best Possible Recall (BPR). Current anchors are a good fit to dataset ✅\n",
            "Image sizes 960 train, 960 val\n",
            "Using 2 dataloader workers\n",
            "Logging results to \u001b[1mruns/train/exp\u001b[0m\n",
            "Starting training for 10 epochs...\n",
            "\n",
            "     Epoch   gpu_mem       box       obj       cls    labels  img_size\n",
            "       0/9     7.13G    0.1201   0.06202   0.02789        21       960: 100% 7/7 [00:24<00:00,  3.44s/it]\n",
            "               Class     Images     Labels          P          R     mAP@.5 mAP@.5:.95: 100% 4/4 [00:07<00:00,  1.78s/it]\n",
            "                 all        100        223     0.0101      0.218    0.00821    0.00156\n",
            "\n",
            "     Epoch   gpu_mem       box       obj       cls    labels  img_size\n",
            "       1/9     7.72G    0.1123   0.05519   0.02483         9       960: 100% 7/7 [00:21<00:00,  3.09s/it]\n",
            "               Class     Images     Labels          P          R     mAP@.5 mAP@.5:.95: 100% 4/4 [00:05<00:00,  1.48s/it]\n",
            "                 all        100        223     0.0156      0.122     0.0117    0.00254\n",
            "\n",
            "     Epoch   gpu_mem       box       obj       cls    labels  img_size\n",
            "       2/9     7.72G    0.1127   0.05003   0.02494        17       960: 100% 7/7 [00:21<00:00,  3.09s/it]\n",
            "               Class     Images     Labels          P          R     mAP@.5 mAP@.5:.95: 100% 4/4 [00:05<00:00,  1.30s/it]\n",
            "                 all        100        223     0.0233     0.0996     0.0155    0.00312\n",
            "\n",
            "     Epoch   gpu_mem       box       obj       cls    labels  img_size\n",
            "       3/9     7.72G    0.1094   0.05003   0.02274        34       960: 100% 7/7 [00:21<00:00,  3.10s/it]\n",
            "               Class     Images     Labels          P          R     mAP@.5 mAP@.5:.95: 100% 4/4 [00:04<00:00,  1.21s/it]\n",
            "                 all        100        223     0.0263       0.17     0.0207     0.0036\n",
            "\n",
            "     Epoch   gpu_mem       box       obj       cls    labels  img_size\n",
            "       4/9     7.72G     0.105   0.04328    0.0205        15       960: 100% 7/7 [00:21<00:00,  3.09s/it]\n",
            "               Class     Images     Labels          P          R     mAP@.5 mAP@.5:.95: 100% 4/4 [00:04<00:00,  1.13s/it]\n",
            "                 all        100        223      0.055     0.0932     0.0297    0.00547\n",
            "\n",
            "     Epoch   gpu_mem       box       obj       cls    labels  img_size\n",
            "       5/9     7.72G    0.1018    0.0439   0.01921        22       960: 100% 7/7 [00:21<00:00,  3.11s/it]\n",
            "               Class     Images     Labels          P          R     mAP@.5 mAP@.5:.95: 100% 4/4 [00:04<00:00,  1.08s/it]\n",
            "                 all        100        223     0.0615      0.147     0.0413    0.00759\n",
            "\n",
            "     Epoch   gpu_mem       box       obj       cls    labels  img_size\n",
            "       6/9     7.72G   0.09698    0.0436   0.01738        16       960: 100% 7/7 [00:21<00:00,  3.09s/it]\n",
            "               Class     Images     Labels          P          R     mAP@.5 mAP@.5:.95: 100% 4/4 [00:04<00:00,  1.04s/it]\n",
            "                 all        100        223      0.136      0.132     0.0755     0.0148\n",
            "\n",
            "     Epoch   gpu_mem       box       obj       cls    labels  img_size\n",
            "       7/9     7.72G   0.09413   0.04511   0.01702        19       960: 100% 7/7 [00:21<00:00,  3.09s/it]\n",
            "               Class     Images     Labels          P          R     mAP@.5 mAP@.5:.95: 100% 4/4 [00:04<00:00,  1.01s/it]\n",
            "                 all        100        223      0.142      0.162     0.0968     0.0226\n",
            "\n",
            "     Epoch   gpu_mem       box       obj       cls    labels  img_size\n",
            "       8/9     7.72G   0.09503    0.0483   0.01637        27       960: 100% 7/7 [00:21<00:00,  3.08s/it]\n",
            "               Class     Images     Labels          P          R     mAP@.5 mAP@.5:.95: 100% 4/4 [00:03<00:00,  1.01it/s]\n",
            "                 all        100        223      0.223      0.137      0.103      0.024\n",
            "\n",
            "     Epoch   gpu_mem       box       obj       cls    labels  img_size\n",
            "       9/9     7.72G   0.09281   0.04637   0.01476        11       960: 100% 7/7 [00:21<00:00,  3.10s/it]\n",
            "               Class     Images     Labels          P          R     mAP@.5 mAP@.5:.95: 100% 4/4 [00:03<00:00,  1.02it/s]\n",
            "                 all        100        223      0.145      0.195      0.103     0.0228\n",
            "\n",
            "10 epochs completed in 0.076 hours.\n",
            "Optimizer stripped from runs/train/exp/weights/last.pt, 14.5MB\n",
            "Optimizer stripped from runs/train/exp/weights/best.pt, 14.5MB\n",
            "\n",
            "Validating runs/train/exp/weights/best.pt...\n",
            "Fusing layers... \n",
            "Model Summary: 213 layers, 7015519 parameters, 0 gradients, 15.8 GFLOPs\n",
            "               Class     Images     Labels          P          R     mAP@.5 mAP@.5:.95: 100% 4/4 [00:06<00:00,  1.66s/it]\n",
            "                 all        100        223      0.218      0.137      0.102     0.0238\n",
            "            Squirrel        100         78      0.326      0.205      0.175     0.0427\n",
            "                 Nut        100        145      0.111      0.069      0.029    0.00497\n",
            "Results saved to \u001b[1mruns/train/exp\u001b[0m\n"
          ]
        }
      ]
    },
    {
      "cell_type": "markdown",
      "metadata": {
        "id": "XlsuBRc3QBHR"
      },
      "source": [
        "After the model has completed training: \n",
        "- Review the model summary above. Check the precision, recall, and mAP values for all of the classes. If there is a class that has worse values than the others, annotate more samples for that class. \n",
        "- The model weights will be saved to **runs/train/exp/weights/best.pt**. \n",
        "\n",
        "Now you can use that model to make predictions."
      ]
    },
    {
      "cell_type": "code",
      "metadata": {
        "id": "ruNw8Ze5e6a9",
        "outputId": "1c948094-3a5b-4159-cb67-051247bdf2c9",
        "colab": {
          "base_uri": "https://localhost:8080/",
          "height": 171
        }
      },
      "source": [
        "model = torch.hub.load('ultralytics/yolov5', 'custom', path='runs/train/exp/weights/best.pt', force_reload=True) \n",
        "imgs = ['../data/squirrelsandnuts_train/images/train/2021-07-03T06-30-10-frame_0001.jpeg']  # batch of images\n",
        "results = model(imgs)\n",
        "\n",
        "results.save()\n",
        "results.pandas().xyxy[0]\n"
      ],
      "execution_count": 6,
      "outputs": [
        {
          "output_type": "stream",
          "name": "stderr",
          "text": [
            "Downloading: \"https://github.com/ultralytics/yolov5/archive/master.zip\" to /root/.cache/torch/hub/master.zip\n",
            "YOLOv5 🚀 2021-12-7 torch 1.10.0+cu111 CUDA:0 (Tesla K80, 11441MiB)\n",
            "\n",
            "Fusing layers... \n",
            "Model Summary: 213 layers, 7015519 parameters, 0 gradients, 15.8 GFLOPs\n",
            "Adding AutoShape... \n",
            "Saved 1 image to \u001b[1mruns/detect/exp4\u001b[0m\n"
          ]
        },
        {
          "output_type": "execute_result",
          "data": {
            "text/html": [
              "<div>\n",
              "<style scoped>\n",
              "    .dataframe tbody tr th:only-of-type {\n",
              "        vertical-align: middle;\n",
              "    }\n",
              "\n",
              "    .dataframe tbody tr th {\n",
              "        vertical-align: top;\n",
              "    }\n",
              "\n",
              "    .dataframe thead th {\n",
              "        text-align: right;\n",
              "    }\n",
              "</style>\n",
              "<table border=\"1\" class=\"dataframe\">\n",
              "  <thead>\n",
              "    <tr style=\"text-align: right;\">\n",
              "      <th></th>\n",
              "      <th>xmin</th>\n",
              "      <th>ymin</th>\n",
              "      <th>xmax</th>\n",
              "      <th>ymax</th>\n",
              "      <th>confidence</th>\n",
              "      <th>class</th>\n",
              "      <th>name</th>\n",
              "    </tr>\n",
              "  </thead>\n",
              "  <tbody>\n",
              "  </tbody>\n",
              "</table>\n",
              "</div>"
            ],
            "text/plain": [
              "Empty DataFrame\n",
              "Columns: [xmin, ymin, xmax, ymax, confidence, class, name]\n",
              "Index: []"
            ]
          },
          "metadata": {},
          "execution_count": 6
        }
      ]
    },
    {
      "cell_type": "markdown",
      "metadata": {
        "id": "FwHyG9WdKX8o"
      },
      "source": [
        "Look at the output above. Look in the runs/detect folder. If there are no classes detected then the model is not working well and you need more data, more epochs, or to try other things. "
      ]
    }
  ]
}